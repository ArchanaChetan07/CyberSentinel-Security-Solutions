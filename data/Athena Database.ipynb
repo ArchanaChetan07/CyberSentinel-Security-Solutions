{
 "cells": [
  {
   "cell_type": "markdown",
   "id": "16aae291-783b-418f-92dd-79ac87a8bb77",
   "metadata": {},
   "source": [
    "# MSADS 508 CyberSentinel Security Solutions\n",
    "## Athena Database Schema"
   ]
  },
  {
   "cell_type": "code",
   "execution_count": 1,
   "id": "41ea53fc-e1ee-4bdb-86d2-2a1f9dee36de",
   "metadata": {},
   "outputs": [],
   "source": [
    "import boto3\n",
    "import sagemaker\n",
    "\n",
    "sess = sagemaker.Session()\n",
    "bucket = sess.default_bucket()\n",
    "role = sagemaker.get_execution_role()\n",
    "region = boto3.Session().region_name"
   ]
  },
  {
   "cell_type": "code",
   "execution_count": 2,
   "id": "b54b35c7-cfb4-4ffe-a6b4-233e95f34c1c",
   "metadata": {},
   "outputs": [],
   "source": [
    "ingest_create_athena_db_passed = False"
   ]
  },
  {
   "cell_type": "markdown",
   "id": "60778f3d-0783-4aec-84bd-7ba2471056a4",
   "metadata": {},
   "source": [
    "### Check Pre-Requisites"
   ]
  },
  {
   "cell_type": "code",
   "execution_count": 3,
   "id": "dd9c42d4-6f09-4f7b-8c0f-d0d3058da565",
   "metadata": {},
   "outputs": [],
   "source": [
    "%store -r s3_public_csv"
   ]
  },
  {
   "cell_type": "code",
   "execution_count": 4,
   "id": "a014ebb3-4ba2-4dd9-8367-5bfcf13683db",
   "metadata": {},
   "outputs": [],
   "source": [
    "try:\n",
    "    s3_public_csv\n",
    "except NameError:\n",
    "    print(\"*****************************************************************************\")\n",
    "    print(\"[ERROR] PLEASE RE-RUN THE PREVIOUS COPY TSV TO S3 NOTEBOOK ******************\")\n",
    "    print(\"[ERROR] THIS NOTEBOOK WILL NOT RUN PROPERLY. ********************************\")\n",
    "    print(\"*****************************************************************************\")"
   ]
  },
  {
   "cell_type": "code",
   "execution_count": 5,
   "id": "81dcb407-7a2a-447c-87b4-ddbd2ba1cf51",
   "metadata": {},
   "outputs": [
    {
     "name": "stdout",
     "output_type": "stream",
     "text": [
      "s3://msads-508-sp25-team6\n"
     ]
    }
   ],
   "source": [
    "print(s3_public_csv)"
   ]
  },
  {
   "cell_type": "code",
   "execution_count": 6,
   "id": "30eea4f9-e5a3-4bfb-bb3c-fde76428e132",
   "metadata": {},
   "outputs": [],
   "source": [
    "%store -r s3_private_csv"
   ]
  },
  {
   "cell_type": "code",
   "execution_count": 7,
   "id": "f7a1c966-80dc-4c8d-83b9-4bc687c6483e",
   "metadata": {},
   "outputs": [],
   "source": [
    "try:\n",
    "    s3_private_csv\n",
    "except NameError:\n",
    "    print(\"*****************************************************************************\")\n",
    "    print(\"[ERROR] PLEASE RE-RUN THE PREVIOUS COPY TSV TO S3 NOTEBOOK ******************\")\n",
    "    print(\"[ERROR] THIS NOTEBOOK WILL NOT RUN PROPERLY. ********************************\")\n",
    "    print(\"*****************************************************************************\")"
   ]
  },
  {
   "cell_type": "code",
   "execution_count": 8,
   "id": "c39c3301-2cb6-46e0-a0b8-a096d1921807",
   "metadata": {},
   "outputs": [
    {
     "name": "stdout",
     "output_type": "stream",
     "text": [
      "s3://sagemaker-us-east-1-367086635748/msads-508-sp25-team6\n"
     ]
    }
   ],
   "source": [
    "print(s3_private_csv)"
   ]
  },
  {
   "cell_type": "markdown",
   "id": "9e60386b-9601-4b19-bcac-bf1f090b9736",
   "metadata": {},
   "source": [
    "### Import PyAthena"
   ]
  },
  {
   "cell_type": "code",
   "execution_count": 9,
   "id": "f5829e97-e4c2-4d09-a50d-d18fe2c29093",
   "metadata": {},
   "outputs": [],
   "source": [
    "!pip install --disable-pip-version-check -q PyAthena==2.1.0\n",
    "from pyathena import connect"
   ]
  },
  {
   "cell_type": "markdown",
   "id": "0d52560a-04cc-4f57-9133-02037f5e783d",
   "metadata": {},
   "source": [
    "## Create Athena Database"
   ]
  },
  {
   "cell_type": "code",
   "execution_count": 10,
   "id": "f115d6f8-93f9-4958-a042-f8c273340dd0",
   "metadata": {},
   "outputs": [],
   "source": [
    "database_name = \"cybersentinel\""
   ]
  },
  {
   "cell_type": "code",
   "execution_count": 11,
   "id": "a4a5d56a-00ba-46c0-a735-cb1f821a3640",
   "metadata": {},
   "outputs": [],
   "source": [
    "# Set S3 staging directory -- this is a temporary directory used for Athena queries\n",
    "s3_staging_dir = \"s3://{0}/athena/staging\".format(bucket)"
   ]
  },
  {
   "cell_type": "code",
   "execution_count": 12,
   "id": "d48373d9-a3ff-49dd-83c5-3914224a658d",
   "metadata": {},
   "outputs": [],
   "source": [
    "conn = connect(region_name = region, s3_staging_dir = s3_staging_dir)"
   ]
  },
  {
   "cell_type": "code",
   "execution_count": 13,
   "id": "d9c7e8d4-2b80-4505-a22e-548111d4136c",
   "metadata": {},
   "outputs": [
    {
     "name": "stdout",
     "output_type": "stream",
     "text": [
      "CREATE DATABASE IF NOT EXISTS cybersentinel\n"
     ]
    }
   ],
   "source": [
    "statement = \"CREATE DATABASE IF NOT EXISTS {}\".format(database_name)\n",
    "print(statement)"
   ]
  },
  {
   "cell_type": "code",
   "execution_count": 14,
   "id": "d839478b-28ba-4a8a-a19e-4d7110fa8922",
   "metadata": {},
   "outputs": [
    {
     "name": "stderr",
     "output_type": "stream",
     "text": [
      "/tmp/ipykernel_1433/1322682284.py:2: UserWarning: pandas only supports SQLAlchemy connectable (engine/connection) or database string URI or sqlite3 DBAPI2 connection. Other DBAPI2 objects are not tested. Please consider using SQLAlchemy.\n",
      "  pd.read_sql(statement, conn)\n"
     ]
    },
    {
     "data": {
      "text/html": [
       "<div>\n",
       "<style scoped>\n",
       "    .dataframe tbody tr th:only-of-type {\n",
       "        vertical-align: middle;\n",
       "    }\n",
       "\n",
       "    .dataframe tbody tr th {\n",
       "        vertical-align: top;\n",
       "    }\n",
       "\n",
       "    .dataframe thead th {\n",
       "        text-align: right;\n",
       "    }\n",
       "</style>\n",
       "<table border=\"1\" class=\"dataframe\">\n",
       "  <thead>\n",
       "    <tr style=\"text-align: right;\">\n",
       "      <th></th>\n",
       "    </tr>\n",
       "  </thead>\n",
       "  <tbody>\n",
       "  </tbody>\n",
       "</table>\n",
       "</div>"
      ],
      "text/plain": [
       "Empty DataFrame\n",
       "Columns: []\n",
       "Index: []"
      ]
     },
     "execution_count": 14,
     "metadata": {},
     "output_type": "execute_result"
    }
   ],
   "source": [
    "import pandas as pd\n",
    "pd.read_sql(statement, conn)"
   ]
  },
  {
   "cell_type": "markdown",
   "id": "d1a562c1-2dbb-44c6-a814-5875d3b92bdd",
   "metadata": {},
   "source": [
    "### Verify The Database Has Been Created"
   ]
  },
  {
   "cell_type": "code",
   "execution_count": 15,
   "id": "a4164faa-7460-4739-9908-1d8df9e520bf",
   "metadata": {},
   "outputs": [
    {
     "name": "stderr",
     "output_type": "stream",
     "text": [
      "/tmp/ipykernel_1433/3999478089.py:3: UserWarning: pandas only supports SQLAlchemy connectable (engine/connection) or database string URI or sqlite3 DBAPI2 connection. Other DBAPI2 objects are not tested. Please consider using SQLAlchemy.\n",
      "  df_show = pd.read_sql(statement, conn)\n"
     ]
    },
    {
     "data": {
      "text/html": [
       "<div>\n",
       "<style scoped>\n",
       "    .dataframe tbody tr th:only-of-type {\n",
       "        vertical-align: middle;\n",
       "    }\n",
       "\n",
       "    .dataframe tbody tr th {\n",
       "        vertical-align: top;\n",
       "    }\n",
       "\n",
       "    .dataframe thead th {\n",
       "        text-align: right;\n",
       "    }\n",
       "</style>\n",
       "<table border=\"1\" class=\"dataframe\">\n",
       "  <thead>\n",
       "    <tr style=\"text-align: right;\">\n",
       "      <th></th>\n",
       "      <th>database_name</th>\n",
       "    </tr>\n",
       "  </thead>\n",
       "  <tbody>\n",
       "    <tr>\n",
       "      <th>0</th>\n",
       "      <td>cybersentinel</td>\n",
       "    </tr>\n",
       "    <tr>\n",
       "      <th>1</th>\n",
       "      <td>default</td>\n",
       "    </tr>\n",
       "  </tbody>\n",
       "</table>\n",
       "</div>"
      ],
      "text/plain": [
       "   database_name\n",
       "0  cybersentinel\n",
       "1        default"
      ]
     },
     "execution_count": 15,
     "metadata": {},
     "output_type": "execute_result"
    }
   ],
   "source": [
    "statement = \"SHOW DATABASES\"\n",
    "\n",
    "df_show = pd.read_sql(statement, conn)\n",
    "df_show.head(5)"
   ]
  },
  {
   "cell_type": "code",
   "execution_count": 16,
   "id": "56ccc82f-6116-48b2-a4ed-277b361b5d01",
   "metadata": {},
   "outputs": [],
   "source": [
    "if database_name in df_show.values:\n",
    "    ingest_create_athena_db_passed = True"
   ]
  },
  {
   "cell_type": "code",
   "execution_count": 17,
   "id": "a4f278d6-ed83-4f17-9c43-93585e78566d",
   "metadata": {},
   "outputs": [
    {
     "name": "stdout",
     "output_type": "stream",
     "text": [
      "Stored 'ingest_create_athena_db_passed' (bool)\n"
     ]
    }
   ],
   "source": [
    "%store ingest_create_athena_db_passed"
   ]
  },
  {
   "cell_type": "markdown",
   "id": "87e60476-38e7-4f94-9021-98f71042ae6b",
   "metadata": {},
   "source": [
    "### Store Variables"
   ]
  },
  {
   "cell_type": "code",
   "execution_count": 18,
   "id": "7252cc8b-477f-4b2e-8788-4ec5f74955ce",
   "metadata": {},
   "outputs": [
    {
     "name": "stdout",
     "output_type": "stream",
     "text": [
      "Stored variables and their in-db values:\n",
      "ingest_create_athena_db_passed             -> True\n",
      "s3_cybersentinel_csv                       -> 's3://msads-508-sp25-team6/MSADS 508 Final Project\n",
      "s3_private_csv                             -> 's3://sagemaker-us-east-1-367086635748/msads-508-s\n",
      "s3_public_csv                              -> 's3://msads-508-sp25-team6'\n",
      "setup_dependencies_passed                  -> True\n",
      "setup_iam_roles_passed                     -> True\n",
      "setup_instance_check_passed                -> True\n",
      "setup_s3_bucket_passed                     -> True\n"
     ]
    }
   ],
   "source": [
    "%store"
   ]
  },
  {
   "cell_type": "markdown",
   "id": "2cee8a38-690a-4ea0-b05f-2dcb8b652563",
   "metadata": {},
   "source": [
    "## Register CSV Data with Athena"
   ]
  },
  {
   "cell_type": "code",
   "execution_count": 19,
   "id": "ce917bc6-161b-40ae-99c1-5ae0ff1981ce",
   "metadata": {},
   "outputs": [],
   "source": [
    "import boto3\n",
    "import sagemaker\n",
    "\n",
    "sess = sagemaker.Session()\n",
    "bucket = sess.default_bucket()\n",
    "role = sagemaker.get_execution_role()\n",
    "region = boto3.Session().region_name"
   ]
  },
  {
   "cell_type": "code",
   "execution_count": 20,
   "id": "8dab0154-9dc6-4e6a-896f-cb5612fc77ec",
   "metadata": {},
   "outputs": [],
   "source": [
    "ingest_create_athena_table_csv_passed = False"
   ]
  },
  {
   "cell_type": "code",
   "execution_count": 21,
   "id": "bd0334d2-0181-4455-afc3-7748d3f21eb1",
   "metadata": {},
   "outputs": [],
   "source": [
    "%store -r ingest_create_athena_db_passed"
   ]
  },
  {
   "cell_type": "code",
   "execution_count": 22,
   "id": "2bcb483a-b1c0-4c49-8d20-11ccefc89850",
   "metadata": {},
   "outputs": [],
   "source": [
    "try:\n",
    "    ingest_create_athena_db_passed\n",
    "except NameError:\n",
    "    print(\"++++++++++++++++++++++++++++++++++++++++++++++\")\n",
    "    print(\"[ERROR] YOU HAVE TO RUN ALL PREVIOUS NOTEBOOKS.  You did not create the Athena Database.\")\n",
    "    print(\"++++++++++++++++++++++++++++++++++++++++++++++\")"
   ]
  },
  {
   "cell_type": "code",
   "execution_count": 23,
   "id": "2757c132-fe65-4eb2-87be-a02f477269ef",
   "metadata": {},
   "outputs": [
    {
     "name": "stdout",
     "output_type": "stream",
     "text": [
      "True\n"
     ]
    }
   ],
   "source": [
    "print(ingest_create_athena_db_passed)"
   ]
  },
  {
   "cell_type": "code",
   "execution_count": 24,
   "id": "63eac2b7-487b-4322-95b5-e1e818df5262",
   "metadata": {},
   "outputs": [
    {
     "name": "stdout",
     "output_type": "stream",
     "text": [
      "[OK]\n"
     ]
    }
   ],
   "source": [
    "if not ingest_create_athena_db_passed:\n",
    "    print(\"++++++++++++++++++++++++++++++++++++++++++++++\")\n",
    "    print(\"[ERROR] YOU HAVE TO RUN ALL PREVIOUS NOTEBOOKS.  You did not create the Athena Database.\")\n",
    "    print(\"++++++++++++++++++++++++++++++++++++++++++++++\")\n",
    "else:\n",
    "    print(\"[OK]\")"
   ]
  },
  {
   "cell_type": "code",
   "execution_count": 25,
   "id": "49487602-ea7f-4b9c-b271-fdd91870aee3",
   "metadata": {},
   "outputs": [],
   "source": [
    "%store -r s3_private_csv"
   ]
  },
  {
   "cell_type": "code",
   "execution_count": 26,
   "id": "641bf76e-54db-473c-a66a-ee59fbcf2fae",
   "metadata": {},
   "outputs": [],
   "source": [
    "try:\n",
    "    s3_private_csv\n",
    "except NameError:\n",
    "    print(\"*****************************************************************************\")\n",
    "    print(\"[ERROR] PLEASE RE-RUN THE PREVIOUS COPY TSV TO S3 NOTEBOOK ******************\")\n",
    "    print(\"[ERROR] THIS NOTEBOOK WILL NOT RUN PROPERLY. ********************************\")\n",
    "    print(\"*****************************************************************************\")"
   ]
  },
  {
   "cell_type": "code",
   "execution_count": 27,
   "id": "b94a4772-d28a-4efb-ae0e-b5b685e024f1",
   "metadata": {},
   "outputs": [
    {
     "name": "stdout",
     "output_type": "stream",
     "text": [
      "s3://sagemaker-us-east-1-367086635748/msads-508-sp25-team6\n"
     ]
    }
   ],
   "source": [
    "print(s3_private_csv)"
   ]
  },
  {
   "cell_type": "markdown",
   "id": "26a0e6e3-9008-42a8-96bc-b29238fe87ac",
   "metadata": {},
   "source": [
    "### Import PyAthena"
   ]
  },
  {
   "cell_type": "code",
   "execution_count": 28,
   "id": "856c797f-6388-4ea7-82e6-b2ac819777e2",
   "metadata": {},
   "outputs": [],
   "source": [
    "from pyathena import connect"
   ]
  },
  {
   "cell_type": "markdown",
   "id": "9e046f38-1032-4b2e-9b6c-7fb2d093460b",
   "metadata": {},
   "source": [
    "### Create Athena Table from Local CSV File"
   ]
  },
  {
   "cell_type": "code",
   "execution_count": 29,
   "id": "94a5eb21-3cb1-4be2-a847-63fa0453e3ac",
   "metadata": {},
   "outputs": [],
   "source": [
    "# Set S3 staging directory -- this is a temporary directory used for Athena queries\n",
    "s3_staging_dir = \"s3://{0}/athena/staging\".format(bucket)"
   ]
  },
  {
   "cell_type": "code",
   "execution_count": 38,
   "id": "ec4c9138-718d-48d4-aa36-3055b361e29d",
   "metadata": {},
   "outputs": [],
   "source": [
    "# Set Athena parameters\n",
    "database_name = \"cybersentinel\"\n",
    "table_name_csv = \"cyber_sentinel_security_csv\""
   ]
  },
  {
   "cell_type": "code",
   "execution_count": 39,
   "id": "0c392955-83b5-499e-9a01-cdec8460f1e0",
   "metadata": {},
   "outputs": [],
   "source": [
    "conn = connect(region_name = region, s3_staging_dir = s3_staging_dir)"
   ]
  },
  {
   "cell_type": "code",
   "execution_count": 42,
   "id": "e6856a3c-393b-4399-b403-840763cdc86f",
   "metadata": {},
   "outputs": [
    {
     "name": "stdout",
     "output_type": "stream",
     "text": [
      "CREATE EXTERNAL TABLE IF NOT EXISTS cybersentinel.cyber_sentinel_security_csv(\n",
      "            source_ip string,\n",
      "            source_port string,\n",
      "            destination_ip string,\n",
      "            destination_port string,\n",
      "            protocol string,\n",
      "            flow_duration float,\n",
      "            total_fwd_packets int,\n",
      "            total_backward_packets int,\n",
      "            fwd_packet_length_mean float,\n",
      "            bwd_packet_length_mean float,\n",
      "            label string\n",
      ") ROW FORMAT DELIMITED FIELDS TERMINATED BY '\\,' LINES TERMINATED BY '\\n' LOCATION 's3://sagemaker-us-east-1-367086635748/msads-508-sp25-team6'\n",
      "TBLPROPERTIES ('skip.header.line.count' = '1')\n"
     ]
    }
   ],
   "source": [
    "# SQL statement to execute\n",
    "statement = \"\"\"CREATE EXTERNAL TABLE IF NOT EXISTS {}.{}(\n",
    "            source_ip string,\n",
    "            source_port string,\n",
    "            destination_ip string,\n",
    "            destination_port string,\n",
    "            protocol string,\n",
    "            flow_duration float,\n",
    "            total_fwd_packets int,\n",
    "            total_backward_packets int,\n",
    "            fwd_packet_length_mean float,\n",
    "            bwd_packet_length_mean float,\n",
    "            label string\n",
    ") ROW FORMAT DELIMITED FIELDS TERMINATED BY '\\\\,' LINES TERMINATED BY '\\\\n' LOCATION '{}'\n",
    "TBLPROPERTIES ('skip.header.line.count' = '1')\"\"\".format(\n",
    "    database_name, table_name_csv, s3_private_csv\n",
    ")\n",
    "\n",
    "print(statement)"
   ]
  },
  {
   "cell_type": "code",
   "execution_count": 43,
   "id": "b8f9f214-662e-4a69-896d-39d45d6d8e05",
   "metadata": {},
   "outputs": [
    {
     "name": "stderr",
     "output_type": "stream",
     "text": [
      "/tmp/ipykernel_1433/3803073958.py:3: UserWarning: pandas only supports SQLAlchemy connectable (engine/connection) or database string URI or sqlite3 DBAPI2 connection. Other DBAPI2 objects are not tested. Please consider using SQLAlchemy.\n",
      "  pd.read_sql(statement, conn)\n"
     ]
    },
    {
     "data": {
      "text/html": [
       "<div>\n",
       "<style scoped>\n",
       "    .dataframe tbody tr th:only-of-type {\n",
       "        vertical-align: middle;\n",
       "    }\n",
       "\n",
       "    .dataframe tbody tr th {\n",
       "        vertical-align: top;\n",
       "    }\n",
       "\n",
       "    .dataframe thead th {\n",
       "        text-align: right;\n",
       "    }\n",
       "</style>\n",
       "<table border=\"1\" class=\"dataframe\">\n",
       "  <thead>\n",
       "    <tr style=\"text-align: right;\">\n",
       "      <th></th>\n",
       "    </tr>\n",
       "  </thead>\n",
       "  <tbody>\n",
       "  </tbody>\n",
       "</table>\n",
       "</div>"
      ],
      "text/plain": [
       "Empty DataFrame\n",
       "Columns: []\n",
       "Index: []"
      ]
     },
     "execution_count": 43,
     "metadata": {},
     "output_type": "execute_result"
    }
   ],
   "source": [
    "import pandas as pd\n",
    "\n",
    "pd.read_sql(statement, conn)"
   ]
  },
  {
   "cell_type": "markdown",
   "id": "9b893fa5-8dbc-44f6-91ff-f04eb1ffcee8",
   "metadata": {},
   "source": [
    "### Verify The Table Has Been Created"
   ]
  },
  {
   "cell_type": "code",
   "execution_count": 44,
   "id": "11195317-b8a1-4324-812c-240868029626",
   "metadata": {},
   "outputs": [
    {
     "name": "stderr",
     "output_type": "stream",
     "text": [
      "/tmp/ipykernel_1433/2201015668.py:3: UserWarning: pandas only supports SQLAlchemy connectable (engine/connection) or database string URI or sqlite3 DBAPI2 connection. Other DBAPI2 objects are not tested. Please consider using SQLAlchemy.\n",
      "  df_show = pd.read_sql(statement, conn)\n"
     ]
    },
    {
     "data": {
      "text/html": [
       "<div>\n",
       "<style scoped>\n",
       "    .dataframe tbody tr th:only-of-type {\n",
       "        vertical-align: middle;\n",
       "    }\n",
       "\n",
       "    .dataframe tbody tr th {\n",
       "        vertical-align: top;\n",
       "    }\n",
       "\n",
       "    .dataframe thead th {\n",
       "        text-align: right;\n",
       "    }\n",
       "</style>\n",
       "<table border=\"1\" class=\"dataframe\">\n",
       "  <thead>\n",
       "    <tr style=\"text-align: right;\">\n",
       "      <th></th>\n",
       "      <th>tab_name</th>\n",
       "    </tr>\n",
       "  </thead>\n",
       "  <tbody>\n",
       "    <tr>\n",
       "      <th>0</th>\n",
       "      <td>cyber_sentinel_security_csv</td>\n",
       "    </tr>\n",
       "  </tbody>\n",
       "</table>\n",
       "</div>"
      ],
      "text/plain": [
       "                      tab_name\n",
       "0  cyber_sentinel_security_csv"
      ]
     },
     "execution_count": 44,
     "metadata": {},
     "output_type": "execute_result"
    }
   ],
   "source": [
    "statement = \"SHOW TABLES in {}\".format(database_name)\n",
    "\n",
    "df_show = pd.read_sql(statement, conn)\n",
    "df_show.head(5)"
   ]
  },
  {
   "cell_type": "code",
   "execution_count": 45,
   "id": "02e4a538-ba53-451d-8c80-f65ccd9edb57",
   "metadata": {},
   "outputs": [],
   "source": [
    "if table_name_csv in df_show.values:\n",
    "    ingest_create_athena_table_csv_passed = True"
   ]
  },
  {
   "cell_type": "code",
   "execution_count": 46,
   "id": "090f8d85-dd1d-46a0-a036-af9c5126ce94",
   "metadata": {},
   "outputs": [
    {
     "name": "stdout",
     "output_type": "stream",
     "text": [
      "Stored 'ingest_create_athena_table_csv_passed' (bool)\n"
     ]
    }
   ],
   "source": [
    "%store ingest_create_athena_table_csv_passed"
   ]
  },
  {
   "cell_type": "markdown",
   "id": "b012e6dc-5f1f-4e7d-abb6-ef6bd3a1176f",
   "metadata": {},
   "source": [
    "### Run A Sample Query"
   ]
  },
  {
   "cell_type": "code",
   "execution_count": 52,
   "id": "7ec5b783-40eb-4d1e-882a-6e7abb331dd4",
   "metadata": {},
   "outputs": [
    {
     "name": "stdout",
     "output_type": "stream",
     "text": [
      "SELECT * FROM cybersentinel.cyber_sentinel_security_csv\n",
      "        WHERE label = 'benign' LIMIT 100\n"
     ]
    }
   ],
   "source": [
    "label = \"benign\"\n",
    "\n",
    "statement = \"\"\"SELECT * FROM {}.{}\n",
    "        WHERE label = '{}' LIMIT 100\"\"\".format(\n",
    "            database_name, table_name_csv, label\n",
    "        )\n",
    "\n",
    "print(statement)"
   ]
  },
  {
   "cell_type": "code",
   "execution_count": 53,
   "id": "ab2f91cb-f77a-4940-a028-e11fee506ef0",
   "metadata": {},
   "outputs": [
    {
     "name": "stderr",
     "output_type": "stream",
     "text": [
      "/tmp/ipykernel_1433/2219640993.py:1: UserWarning: pandas only supports SQLAlchemy connectable (engine/connection) or database string URI or sqlite3 DBAPI2 connection. Other DBAPI2 objects are not tested. Please consider using SQLAlchemy.\n",
      "  df = pd.read_sql(statement, conn)\n"
     ]
    },
    {
     "data": {
      "text/html": [
       "<div>\n",
       "<style scoped>\n",
       "    .dataframe tbody tr th:only-of-type {\n",
       "        vertical-align: middle;\n",
       "    }\n",
       "\n",
       "    .dataframe tbody tr th {\n",
       "        vertical-align: top;\n",
       "    }\n",
       "\n",
       "    .dataframe thead th {\n",
       "        text-align: right;\n",
       "    }\n",
       "</style>\n",
       "<table border=\"1\" class=\"dataframe\">\n",
       "  <thead>\n",
       "    <tr style=\"text-align: right;\">\n",
       "      <th></th>\n",
       "      <th>source_ip</th>\n",
       "      <th>source_port</th>\n",
       "      <th>destination_ip</th>\n",
       "      <th>destination_port</th>\n",
       "      <th>protocol</th>\n",
       "      <th>flow_duration</th>\n",
       "      <th>total_fwd_packets</th>\n",
       "      <th>total_backward_packets</th>\n",
       "      <th>fwd_packet_length_mean</th>\n",
       "      <th>bwd_packet_length_mean</th>\n",
       "      <th>label</th>\n",
       "    </tr>\n",
       "  </thead>\n",
       "  <tbody>\n",
       "    <tr>\n",
       "      <th>0</th>\n",
       "      <td>59.166.0.5</td>\n",
       "      <td>10475</td>\n",
       "      <td>149.171.126.8</td>\n",
       "      <td>44054</td>\n",
       "      <td>tcp</td>\n",
       "      <td>24.838</td>\n",
       "      <td>46</td>\n",
       "      <td>46</td>\n",
       "      <td>62.0</td>\n",
       "      <td>669.0</td>\n",
       "      <td>benign</td>\n",
       "    </tr>\n",
       "    <tr>\n",
       "      <th>1</th>\n",
       "      <td>59.166.0.7</td>\n",
       "      <td>19565</td>\n",
       "      <td>149.171.126.2</td>\n",
       "      <td>21</td>\n",
       "      <td>tcp</td>\n",
       "      <td>923.815</td>\n",
       "      <td>52</td>\n",
       "      <td>54</td>\n",
       "      <td>56.0</td>\n",
       "      <td>69.0</td>\n",
       "      <td>benign</td>\n",
       "    </tr>\n",
       "    <tr>\n",
       "      <th>2</th>\n",
       "      <td>59.166.0.3</td>\n",
       "      <td>46695</td>\n",
       "      <td>149.171.126.8</td>\n",
       "      <td>52783</td>\n",
       "      <td>tcp</td>\n",
       "      <td>24.590</td>\n",
       "      <td>50</td>\n",
       "      <td>50</td>\n",
       "      <td>62.0</td>\n",
       "      <td>624.0</td>\n",
       "      <td>benign</td>\n",
       "    </tr>\n",
       "    <tr>\n",
       "      <th>3</th>\n",
       "      <td>59.166.0.7</td>\n",
       "      <td>60266</td>\n",
       "      <td>149.171.126.2</td>\n",
       "      <td>61745</td>\n",
       "      <td>tcp</td>\n",
       "      <td>223.960</td>\n",
       "      <td>14</td>\n",
       "      <td>6</td>\n",
       "      <td>638.0</td>\n",
       "      <td>53.0</td>\n",
       "      <td>benign</td>\n",
       "    </tr>\n",
       "    <tr>\n",
       "      <th>4</th>\n",
       "      <td>59.166.0.3</td>\n",
       "      <td>53177</td>\n",
       "      <td>149.171.126.2</td>\n",
       "      <td>56996</td>\n",
       "      <td>tcp</td>\n",
       "      <td>52.046</td>\n",
       "      <td>90</td>\n",
       "      <td>92</td>\n",
       "      <td>57.0</td>\n",
       "      <td>936.0</td>\n",
       "      <td>benign</td>\n",
       "    </tr>\n",
       "  </tbody>\n",
       "</table>\n",
       "</div>"
      ],
      "text/plain": [
       "    source_ip source_port destination_ip destination_port protocol  \\\n",
       "0  59.166.0.5       10475  149.171.126.8            44054      tcp   \n",
       "1  59.166.0.7       19565  149.171.126.2               21      tcp   \n",
       "2  59.166.0.3       46695  149.171.126.8            52783      tcp   \n",
       "3  59.166.0.7       60266  149.171.126.2            61745      tcp   \n",
       "4  59.166.0.3       53177  149.171.126.2            56996      tcp   \n",
       "\n",
       "   flow_duration  total_fwd_packets  total_backward_packets  \\\n",
       "0         24.838                 46                      46   \n",
       "1        923.815                 52                      54   \n",
       "2         24.590                 50                      50   \n",
       "3        223.960                 14                       6   \n",
       "4         52.046                 90                      92   \n",
       "\n",
       "   fwd_packet_length_mean  bwd_packet_length_mean   label  \n",
       "0                    62.0                   669.0  benign  \n",
       "1                    56.0                    69.0  benign  \n",
       "2                    62.0                   624.0  benign  \n",
       "3                   638.0                    53.0  benign  \n",
       "4                    57.0                   936.0  benign  "
      ]
     },
     "execution_count": 53,
     "metadata": {},
     "output_type": "execute_result"
    }
   ],
   "source": [
    "df = pd.read_sql(statement, conn)\n",
    "\n",
    "df.head(5)"
   ]
  },
  {
   "cell_type": "markdown",
   "id": "de1aa253-e575-405f-808f-eaf045f57d6c",
   "metadata": {},
   "source": [
    "### Store Variables"
   ]
  },
  {
   "cell_type": "code",
   "execution_count": 54,
   "id": "10bd0748-4928-4d65-9ee3-6097ad6bb782",
   "metadata": {},
   "outputs": [
    {
     "name": "stdout",
     "output_type": "stream",
     "text": [
      "Stored variables and their in-db values:\n",
      "ingest_create_athena_db_passed                    -> True\n",
      "ingest_create_athena_table_csv_passed             -> True\n",
      "s3_cybersentinel_csv                              -> 's3://msads-508-sp25-team6/MSADS 508 Final Project\n",
      "s3_private_csv                                    -> 's3://sagemaker-us-east-1-367086635748/msads-508-s\n",
      "s3_public_csv                                     -> 's3://msads-508-sp25-team6'\n",
      "setup_dependencies_passed                         -> True\n",
      "setup_iam_roles_passed                            -> True\n",
      "setup_instance_check_passed                       -> True\n",
      "setup_s3_bucket_passed                            -> True\n"
     ]
    }
   ],
   "source": [
    "%store"
   ]
  }
 ],
 "metadata": {
  "kernelspec": {
   "display_name": "Python 3 (ipykernel)",
   "language": "python",
   "name": "python3"
  },
  "language_info": {
   "codemirror_mode": {
    "name": "ipython",
    "version": 3
   },
   "file_extension": ".py",
   "mimetype": "text/x-python",
   "name": "python",
   "nbconvert_exporter": "python",
   "pygments_lexer": "ipython3",
   "version": "3.11.11"
  }
 },
 "nbformat": 4,
 "nbformat_minor": 5
}
