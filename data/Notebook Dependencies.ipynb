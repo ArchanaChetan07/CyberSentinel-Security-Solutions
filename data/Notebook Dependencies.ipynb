{
 "cells": [
  {
   "cell_type": "markdown",
   "id": "244a50b0-b7b0-49bd-b1f4-b8ddd8336f10",
   "metadata": {},
   "source": [
    "# MSADS 508 CyberSentinel Security Solutions\n",
    "## Notebook dependencies"
   ]
  },
  {
   "cell_type": "markdown",
   "id": "a484959b-0df3-4f00-bc80-a314329117bc",
   "metadata": {},
   "source": [
    "### Pip"
   ]
  },
  {
   "cell_type": "code",
   "execution_count": 2,
   "id": "866b6a2f-e80e-4c04-9040-bd4c8b3c485c",
   "metadata": {},
   "outputs": [],
   "source": [
    "!pip install --disable-pip-version-check -q pip --upgrade > /dev/null\n",
    "!pip install --disable-pip-version-check -q wrapt --upgrade > /dev/null"
   ]
  },
  {
   "cell_type": "markdown",
   "id": "cc349edb-3628-4474-b68a-9ac46e485489",
   "metadata": {},
   "source": [
    "### AWS CLI and AWS Python SDK (boto3)"
   ]
  },
  {
   "cell_type": "code",
   "execution_count": 3,
   "id": "5056471d-b5ef-4d1d-81d2-584cdcc15eaf",
   "metadata": {},
   "outputs": [
    {
     "name": "stdout",
     "output_type": "stream",
     "text": [
      "\u001b[31mERROR: pip's dependency resolver does not currently take into account all the packages that are installed. This behaviour is the source of the following dependency conflicts.\n",
      "autogluon-multimodal 1.2 requires nvidia-ml-py3==7.352.0, which is not installed.\n",
      "jupyter-ai 2.29.1 requires faiss-cpu!=1.8.0.post0,<2.0.0,>=1.8.0, which is not installed.\n",
      "aiobotocore 2.19.0 requires botocore<1.36.4,>=1.36.0, but you have botocore 1.19.56 which is incompatible.\n",
      "amazon-sagemaker-sql-editor 0.1.15 requires boto3<2,>=1.29.6, but you have boto3 1.16.56 which is incompatible.\n",
      "amazon-sagemaker-sql-editor 0.1.15 requires botocore<2,>=1.31.64, but you have botocore 1.19.56 which is incompatible.\n",
      "amazon-sagemaker-sql-execution 0.1.6 requires boto3>=1.28.64, but you have boto3 1.16.56 which is incompatible.\n",
      "amazon-sagemaker-sql-magic 0.1.3 requires sqlparse==0.5.0, but you have sqlparse 0.5.3 which is incompatible.\n",
      "autogluon-multimodal 1.2 requires jsonschema<4.22,>=4.18, but you have jsonschema 4.23.0 which is incompatible.\n",
      "autogluon-multimodal 1.2 requires nltk<3.9,>=3.4.5, but you have nltk 3.9.1 which is incompatible.\n",
      "autogluon-multimodal 1.2 requires omegaconf<2.3.0,>=2.1.1, but you have omegaconf 2.3.0 which is incompatible.\n",
      "aws-glue-sessions 1.0.8 requires boto3>=1.21.31, but you have boto3 1.16.56 which is incompatible.\n",
      "aws-glue-sessions 1.0.8 requires botocore>=1.24.24, but you have botocore 1.19.56 which is incompatible.\n",
      "distributed 2025.2.0 requires pyyaml>=5.4.1, but you have pyyaml 5.3.1 which is incompatible.\n",
      "langchain-aws 0.2.10 requires boto3>=1.35.74, but you have boto3 1.16.56 which is incompatible.\n",
      "lightning 2.5.0.post0 requires PyYAML<8.0,>=5.4, but you have pyyaml 5.3.1 which is incompatible.\n",
      "pyathena 3.12.2 requires boto3>=1.26.4, but you have boto3 1.16.56 which is incompatible.\n",
      "pyathena 3.12.2 requires botocore>=1.29.4, but you have botocore 1.19.56 which is incompatible.\n",
      "pytorch-lightning 2.5.0.post0 requires PyYAML>=5.4, but you have pyyaml 5.3.1 which is incompatible.\n",
      "sagemaker 2.240.0 requires boto3<2.0,>=1.35.75, but you have boto3 1.16.56 which is incompatible.\n",
      "sagemaker 2.240.0 requires pyyaml~=6.0, but you have pyyaml 5.3.1 which is incompatible.\n",
      "sagemaker-core 1.0.22 requires boto3<2.0.0,>=1.35.75, but you have boto3 1.16.56 which is incompatible.\n",
      "sagemaker-core 1.0.22 requires PyYAML<7.0,>=6.0, but you have pyyaml 5.3.1 which is incompatible.\n",
      "sagemaker-mlflow 0.1.0 requires boto3>=1.34, but you have boto3 1.16.56 which is incompatible.\n",
      "sagemaker-studio-analytics-extension 0.1.5 requires boto3<2.0,>=1.26.49, but you have boto3 1.16.56 which is incompatible.\n",
      "sparkmagic 0.21.0 requires pandas<2.0.0,>=0.17.1, but you have pandas 2.2.3 which is incompatible.\u001b[0m\u001b[31m\n",
      "\u001b[0m"
     ]
    }
   ],
   "source": [
    "!pip install --disable-pip-version-check -q awscli==1.18.216 boto3==1.16.56 botocore==1.19.56"
   ]
  },
  {
   "cell_type": "markdown",
   "id": "a1d07f92-a336-4c41-b209-28ba9b7ab4c9",
   "metadata": {},
   "source": [
    "### SageMaker"
   ]
  },
  {
   "cell_type": "code",
   "execution_count": 4,
   "id": "b46484ae-effe-4f8c-9c02-c7254d11abed",
   "metadata": {},
   "outputs": [],
   "source": [
    "!pip install --disable-pip-version-check -q sagemaker==2.29.0\n",
    "!pip install --disable-pip-version-check -q smdebug==1.0.1\n",
    "!pip install --disable-pip-version-check -q sagemaker-experiments==0.1.26"
   ]
  },
  {
   "cell_type": "markdown",
   "id": "4b1a87db-59ba-49ab-838a-fc8f38bdd4f0",
   "metadata": {},
   "source": [
    "### PyTorch"
   ]
  },
  {
   "cell_type": "code",
   "execution_count": 4,
   "id": "1e627623-ef2d-44ef-966e-4b2e539d76e2",
   "metadata": {},
   "outputs": [
    {
     "name": "stdout",
     "output_type": "stream",
     "text": [
      "Channels:\n",
      " - pytorch\n",
      " - conda-forge\n",
      "Platform: linux-64\n",
      "doneecting package metadata (repodata.json): - \n",
      "\u001b[33m\u001b[1mwarning  libmamba\u001b[m Added empty dependency for problem type SOLVER_RULE_UPDATE\n",
      "/ WARNING conda.models.version:get_matcher(563): Using .* with relational operator is superfluous and deprecated and will be removed in a future version of conda. Your spec was 1.0.0.*, but conda is ignoring the .* and treating it as 1.0.0\n",
      "WARNING conda.models.version:get_matcher(563): Using .* with relational operator is superfluous and deprecated and will be removed in a future version of conda. Your spec was 3.0.0.*, but conda is ignoring the .* and treating it as 3.0.0\n",
      "WARNING conda.models.version:get_matcher(563): Using .* with relational operator is superfluous and deprecated and will be removed in a future version of conda. Your spec was 5.0.0.*, but conda is ignoring the .* and treating it as 5.0.0\n",
      "WARNING conda.models.version:get_matcher(563): Using .* with relational operator is superfluous and deprecated and will be removed in a future version of conda. Your spec was 2.0.0.*, but conda is ignoring the .* and treating it as 2.0.0\n",
      "WARNING conda.models.version:get_matcher(563): Using .* with relational operator is superfluous and deprecated and will be removed in a future version of conda. Your spec was 2025.0.0.*, but conda is ignoring the .* and treating it as 2025.0.0\n",
      "WARNING conda.models.version:get_matcher(563): Using .* with relational operator is superfluous and deprecated and will be removed in a future version of conda. Your spec was 25.0.0.*, but conda is ignoring the .* and treating it as 25.0.0\n",
      "WARNING conda.models.version:get_matcher(563): Using .* with relational operator is superfluous and deprecated and will be removed in a future version of conda. Your spec was 8.0.0.*, but conda is ignoring the .* and treating it as 8.0.0\n",
      "WARNING conda.models.version:get_matcher(563): Using .* with relational operator is superfluous and deprecated and will be removed in a future version of conda. Your spec was 4.0.0.*, but conda is ignoring the .* and treating it as 4.0.0\n",
      "WARNING conda.models.version:get_matcher(563): Using .* with relational operator is superfluous and deprecated and will be removed in a future version of conda. Your spec was 6.0.0.*, but conda is ignoring the .* and treating it as 6.0.0\n",
      "WARNING conda.models.version:get_matcher(563): Using .* with relational operator is superfluous and deprecated and will be removed in a future version of conda. Your spec was 0.51.0.*, but conda is ignoring the .* and treating it as 0.51.0\n",
      "WARNING conda.models.version:get_matcher(563): Using .* with relational operator is superfluous and deprecated and will be removed in a future version of conda. Your spec was 9.0.0.*, but conda is ignoring the .* and treating it as 9.0.0\n",
      "WARNING conda.models.version:get_matcher(563): Using .* with relational operator is superfluous and deprecated and will be removed in a future version of conda. Your spec was 28.0.0.*, but conda is ignoring the .* and treating it as 28.0.0\n",
      "WARNING conda.models.version:get_matcher(563): Using .* with relational operator is superfluous and deprecated and will be removed in a future version of conda. Your spec was 1.3.0.*, but conda is ignoring the .* and treating it as 1.3.0\n",
      "failed\n",
      "\n",
      "LibMambaUnsatisfiableError: Encountered problems while solving:\n",
      "  - nothing provides requested uvicorn >=0.34.0,<1.0.0.*\n",
      "  - nothing provides requested torchvision >=0.19.1,<1.0.0.*\n",
      "  - nothing provides requested tf-keras >=2.17.0,<3.0.0.*\n",
      "  - nothing provides requested tensorflow >=2.17.0,<3.0.0.*\n",
      "  - nothing provides requested supervisor >=4.2.5,<5.0.0.*\n",
      "  - nothing provides requested seaborn >=0.13.2,<1.0.0.*\n",
      "  - nothing provides requested scipy >=1.15.1,<2.0.0.*\n",
      "  - nothing provides requested scikit-learn >=1.5.2,<2.0.0.*\n",
      "  - nothing provides requested sagemaker-studio-analytics-extension >=0.1.4,<1.0.0.*\n",
      "  - nothing provides requested sagemaker-python-sdk >=2.228.0,<3.0.0.*\n",
      "  - nothing provides requested sagemaker-mlflow >=0.1.0,<1.0.0.*\n",
      "  - nothing provides requested sagemaker-kernel-wrapper >=0.0.4,<1.0.0.*\n",
      "  - nothing provides requested sagemaker-jupyterlab-extension >=0.3.3,<1.0.0.*\n",
      "  - nothing provides requested sagemaker-jupyterlab-emr-extension >=0.3.7,<1.0.0.*\n",
      "  - nothing provides requested sagemaker-headless-execution-driver >=0.0.13,<1.0.0.*\n",
      "  - nothing provides requested sagemaker-code-editor >=1.4.2,<2.0.0.*\n",
      "  - nothing provides requested s3fs >=2024.10.0,<2025.0.0.*\n",
      "  - nothing provides requested python-lsp-server >=1.12.1,<2.0.0.*\n",
      "  - nothing provides requested python-gssapi >=1.9.0,<2.0.0.*\n",
      "  - nothing provides requested pyhive >=0.7.0,<1.0.0.*\n",
      "  - nothing provides requested py-xgboost-cpu >=2.1.4,<3.0.0.*\n",
      "  - nothing provides requested pip >=24.3.1,<25.0.0.*\n",
      "  - nothing provides requested pandas >=2.2.3,<3.0.0.*\n",
      "  - nothing provides requested numpy >=1.26.4,<2.0.0.*\n",
      "  - nothing provides requested notebook >=7.2.2,<8.0.0.*\n",
      "  - nothing provides requested mlflow >=2.20.1,<3.0.0.*\n",
      "  - nothing provides requested matplotlib-base >=3.10.0,<4.0.0.*\n",
      "  - nothing provides requested libmamba >=1.5.12,<2.0.0.*\n",
      "  - nothing provides requested langchain-aws >=0.2.10,<1.0.0.*\n",
      "  - nothing provides requested langchain >=0.3.17,<1.0.0.*\n",
      "  - nothing provides requested keras >=3.8.0,<4.0.0.*\n",
      "  - nothing provides requested jupyterlab-lsp >=5.0.3,<6.0.0.*\n",
      "  - nothing provides requested jupyterlab-git >=0.50.2,<0.51.0.*\n",
      "  - nothing provides requested jupyterlab >=4.2.7,<5.0.0.*\n",
      "  - nothing provides requested jupyter-server-proxy >=4.4.0,<5.0.0.*\n",
      "  - nothing provides requested jupyter-scheduler >=2.10.0,<3.0.0.*\n",
      "  - nothing provides requested jupyter-lsp >=2.2.5,<3.0.0.*\n",
      "  - nothing provides requested jupyter-dash >=0.4.2,<1.0.0.*\n",
      "  - nothing provides requested jupyter-collaboration >=2.1.5,<3.0.0.*\n",
      "  - nothing provides requested jupyter-ai >=2.29.1,<3.0.0.*\n",
      "  - nothing provides requested jupyter-activity-monitor-extension >=0.3.1,<1.0.0.*\n",
      "  - nothing provides requested jinja2 >=3.1.5,<4.0.0.*\n",
      "  - nothing provides requested ipywidgets >=8.1.5,<9.0.0.*\n",
      "  - nothing provides requested ipython >=8.31.0,<9.0.0.*\n",
      "  - nothing provides requested git-remote-codecommit >=1.16,<2.0.0.*\n",
      "  - nothing provides requested fastapi >=0.115.8,<1.0.0.*\n",
      "  - nothing provides requested docker-cli >=27.5.1,<28.0.0.*\n",
      "  - nothing provides requested catboost >=1.1.1,<1.3.0.*\n",
      "  - nothing provides requested boto3 >=1.36.3,<2.0.0.*\n",
      "  - nothing provides requested aws-glue-sessions >=1.0.8,<2.0.0.*\n",
      "  - nothing provides requested autogluon >=1.2.0,<2.0.0.*\n",
      "  - nothing provides requested amazon_sagemaker_sql_editor >=0.1.14,<1.0.0.*\n",
      "  - nothing provides requested amazon-sagemaker-sql-magic >=0.1.3,<1.0.0.*\n",
      "  - nothing provides requested amazon-sagemaker-jupyter-scheduler >=3.1.9,<4.0.0.*\n",
      "  - nothing provides requested amazon-sagemaker-jupyter-ai-q-developer >=1.0.16,<2.0.0.*\n",
      "  - nothing provides requested amazon-q-developer-jupyterlab-ext >=3.4.6,<4.0.0.*\n",
      "  - nothing provides requested altair >=5.5.0,<6.0.0.*\n",
      "  - package pytorch-1.6.0-py3.6_cpu_0 requires python >=3.6,<3.7.0a0, but none of the providers can be installed\n",
      "\n",
      "Could not solve for environment specs\n",
      "The following packages are incompatible\n",
      "├─ \u001b[31maltair >=5.5.0,<6.0.0.* \u001b[0m does not exist (perhaps a typo or a missing channel);\n",
      "├─ \u001b[31mamazon-q-developer-jupyterlab-ext >=3.4.6,<4.0.0.* \u001b[0m does not exist (perhaps a typo or a missing channel);\n",
      "├─ \u001b[31mamazon-sagemaker-jupyter-ai-q-developer >=1.0.16,<2.0.0.* \u001b[0m does not exist (perhaps a typo or a missing channel);\n",
      "├─ \u001b[31mamazon-sagemaker-jupyter-scheduler >=3.1.9,<4.0.0.* \u001b[0m does not exist (perhaps a typo or a missing channel);\n",
      "├─ \u001b[31mamazon-sagemaker-sql-magic >=0.1.3,<1.0.0.* \u001b[0m does not exist (perhaps a typo or a missing channel);\n",
      "├─ \u001b[31mamazon_sagemaker_sql_editor >=0.1.14,<1.0.0.* \u001b[0m does not exist (perhaps a typo or a missing channel);\n",
      "├─ \u001b[31mautogluon >=1.2.0,<2.0.0.* \u001b[0m does not exist (perhaps a typo or a missing channel);\n",
      "├─ \u001b[31maws-glue-sessions >=1.0.8,<2.0.0.* \u001b[0m does not exist (perhaps a typo or a missing channel);\n",
      "├─ \u001b[31mboto3 >=1.36.3,<2.0.0.* \u001b[0m does not exist (perhaps a typo or a missing channel);\n",
      "├─ \u001b[31mcatboost >=1.1.1,<1.3.0.* \u001b[0m does not exist (perhaps a typo or a missing channel);\n",
      "├─ \u001b[31mdocker-cli >=27.5.1,<28.0.0.* \u001b[0m does not exist (perhaps a typo or a missing channel);\n",
      "├─ \u001b[31mfastapi >=0.115.8,<1.0.0.* \u001b[0m does not exist (perhaps a typo or a missing channel);\n",
      "├─ \u001b[31mgit-remote-codecommit >=1.16,<2.0.0.* \u001b[0m does not exist (perhaps a typo or a missing channel);\n",
      "├─ \u001b[31mipython >=8.31.0,<9.0.0.* \u001b[0m does not exist (perhaps a typo or a missing channel);\n",
      "├─ \u001b[31mipywidgets >=8.1.5,<9.0.0.* \u001b[0m does not exist (perhaps a typo or a missing channel);\n",
      "├─ \u001b[31mjinja2 >=3.1.5,<4.0.0.* \u001b[0m does not exist (perhaps a typo or a missing channel);\n",
      "├─ \u001b[31mjupyter-activity-monitor-extension >=0.3.1,<1.0.0.* \u001b[0m does not exist (perhaps a typo or a missing channel);\n",
      "├─ \u001b[31mjupyter-ai >=2.29.1,<3.0.0.* \u001b[0m does not exist (perhaps a typo or a missing channel);\n",
      "├─ \u001b[31mjupyter-collaboration >=2.1.5,<3.0.0.* \u001b[0m does not exist (perhaps a typo or a missing channel);\n",
      "├─ \u001b[31mjupyter-dash >=0.4.2,<1.0.0.* \u001b[0m does not exist (perhaps a typo or a missing channel);\n",
      "├─ \u001b[31mjupyter-lsp >=2.2.5,<3.0.0.* \u001b[0m does not exist (perhaps a typo or a missing channel);\n",
      "├─ \u001b[31mjupyter-scheduler >=2.10.0,<3.0.0.* \u001b[0m does not exist (perhaps a typo or a missing channel);\n",
      "├─ \u001b[31mjupyter-server-proxy >=4.4.0,<5.0.0.* \u001b[0m does not exist (perhaps a typo or a missing channel);\n",
      "├─ \u001b[31mjupyterlab-git >=0.50.2,<0.51.0.* \u001b[0m does not exist (perhaps a typo or a missing channel);\n",
      "├─ \u001b[31mjupyterlab-lsp >=5.0.3,<6.0.0.* \u001b[0m does not exist (perhaps a typo or a missing channel);\n",
      "├─ \u001b[31mjupyterlab >=4.2.7,<5.0.0.* \u001b[0m does not exist (perhaps a typo or a missing channel);\n",
      "├─ \u001b[31mkeras >=3.8.0,<4.0.0.* \u001b[0m does not exist (perhaps a typo or a missing channel);\n",
      "├─ \u001b[31mlangchain-aws >=0.2.10,<1.0.0.* \u001b[0m does not exist (perhaps a typo or a missing channel);\n",
      "├─ \u001b[31mlangchain >=0.3.17,<1.0.0.* \u001b[0m does not exist (perhaps a typo or a missing channel);\n",
      "├─ \u001b[31mlibmamba >=1.5.12,<2.0.0.* \u001b[0m does not exist (perhaps a typo or a missing channel);\n",
      "├─ \u001b[31mmatplotlib-base >=3.10.0,<4.0.0.* \u001b[0m does not exist (perhaps a typo or a missing channel);\n",
      "├─ \u001b[31mmlflow >=2.20.1,<3.0.0.* \u001b[0m does not exist (perhaps a typo or a missing channel);\n",
      "├─ \u001b[31mnotebook >=7.2.2,<8.0.0.* \u001b[0m does not exist (perhaps a typo or a missing channel);\n",
      "├─ \u001b[31mnumpy >=1.26.4,<2.0.0.* \u001b[0m does not exist (perhaps a typo or a missing channel);\n",
      "├─ \u001b[31mpandas >=2.2.3,<3.0.0.* \u001b[0m does not exist (perhaps a typo or a missing channel);\n",
      "├─ \u001b[32mpin-1\u001b[0m is installable and it requires\n",
      "│  └─ \u001b[32mpython 3.11.* \u001b[0m, which can be installed;\n",
      "├─ \u001b[31mpip >=24.3.1,<25.0.0.* \u001b[0m does not exist (perhaps a typo or a missing channel);\n",
      "├─ \u001b[31mpy-xgboost-cpu >=2.1.4,<3.0.0.* \u001b[0m does not exist (perhaps a typo or a missing channel);\n",
      "├─ \u001b[31mpyhive >=0.7.0,<1.0.0.* \u001b[0m does not exist (perhaps a typo or a missing channel);\n",
      "├─ \u001b[31mpython-gssapi >=1.9.0,<2.0.0.* \u001b[0m does not exist (perhaps a typo or a missing channel);\n",
      "├─ \u001b[31mpython-lsp-server >=1.12.1,<2.0.0.* \u001b[0m does not exist (perhaps a typo or a missing channel);\n",
      "├─ \u001b[31mpytorch 1.6.0 \u001b[0m is not installable because there are no viable options\n",
      "│  ├─ \u001b[31mpytorch 1.6.0\u001b[0m would require\n",
      "│  │  └─ \u001b[31mpython >=3.6,<3.7.0a0 \u001b[0m, which conflicts with any installable versions previously reported;\n",
      "│  ├─ \u001b[31mpytorch 1.6.0\u001b[0m would require\n",
      "│  │  └─ \u001b[31mpython >=3.7,<3.8.0a0 \u001b[0m, which conflicts with any installable versions previously reported;\n",
      "│  ├─ \u001b[31mpytorch 1.6.0\u001b[0m would require\n",
      "│  │  └─ \u001b[31mpython >=3.8,<3.9.0a0 \u001b[0m, which conflicts with any installable versions previously reported;\n",
      "│  └─ \u001b[31mpytorch 1.6.0\u001b[0m would require\n",
      "│     └─ \u001b[31mpython >=3.9,<3.10.0a0 \u001b[0m, which conflicts with any installable versions previously reported;\n",
      "├─ \u001b[31ms3fs >=2024.10.0,<2025.0.0.* \u001b[0m does not exist (perhaps a typo or a missing channel);\n",
      "├─ \u001b[31msagemaker-code-editor >=1.4.2,<2.0.0.* \u001b[0m does not exist (perhaps a typo or a missing channel);\n",
      "├─ \u001b[31msagemaker-headless-execution-driver >=0.0.13,<1.0.0.* \u001b[0m does not exist (perhaps a typo or a missing channel);\n",
      "├─ \u001b[31msagemaker-jupyterlab-emr-extension >=0.3.7,<1.0.0.* \u001b[0m does not exist (perhaps a typo or a missing channel);\n",
      "├─ \u001b[31msagemaker-jupyterlab-extension >=0.3.3,<1.0.0.* \u001b[0m does not exist (perhaps a typo or a missing channel);\n",
      "├─ \u001b[31msagemaker-kernel-wrapper >=0.0.4,<1.0.0.* \u001b[0m does not exist (perhaps a typo or a missing channel);\n",
      "├─ \u001b[31msagemaker-mlflow >=0.1.0,<1.0.0.* \u001b[0m does not exist (perhaps a typo or a missing channel);\n",
      "├─ \u001b[31msagemaker-python-sdk >=2.228.0,<3.0.0.* \u001b[0m does not exist (perhaps a typo or a missing channel);\n",
      "├─ \u001b[31msagemaker-studio-analytics-extension >=0.1.4,<1.0.0.* \u001b[0m does not exist (perhaps a typo or a missing channel);\n",
      "├─ \u001b[31mscikit-learn >=1.5.2,<2.0.0.* \u001b[0m does not exist (perhaps a typo or a missing channel);\n",
      "├─ \u001b[31mscipy >=1.15.1,<2.0.0.* \u001b[0m does not exist (perhaps a typo or a missing channel);\n",
      "├─ \u001b[31mseaborn >=0.13.2,<1.0.0.* \u001b[0m does not exist (perhaps a typo or a missing channel);\n",
      "├─ \u001b[31msupervisor >=4.2.5,<5.0.0.* \u001b[0m does not exist (perhaps a typo or a missing channel);\n",
      "├─ \u001b[31mtensorflow >=2.17.0,<3.0.0.* \u001b[0m does not exist (perhaps a typo or a missing channel);\n",
      "├─ \u001b[31mtf-keras >=2.17.0,<3.0.0.* \u001b[0m does not exist (perhaps a typo or a missing channel);\n",
      "├─ \u001b[31mtorchvision >=0.19.1,<1.0.0.* \u001b[0m does not exist (perhaps a typo or a missing channel);\n",
      "└─ \u001b[31muvicorn >=0.34.0,<1.0.0.* \u001b[0m does not exist (perhaps a typo or a missing channel).\n",
      "\n"
     ]
    }
   ],
   "source": [
    "!conda install -y pytorch==1.6.0 -c pytorch"
   ]
  },
  {
   "cell_type": "markdown",
   "id": "71316a77-3e44-47c6-b1cb-ff567664cc06",
   "metadata": {},
   "source": [
    "### TensorFlow"
   ]
  },
  {
   "cell_type": "code",
   "execution_count": 5,
   "id": "4f18ec8a-2888-4d40-829a-268cbae2e6ed",
   "metadata": {},
   "outputs": [
    {
     "name": "stdout",
     "output_type": "stream",
     "text": [
      "\u001b[31mERROR: Could not find a version that satisfies the requirement tensorflow==2.8.1 (from versions: 2.12.0rc0, 2.12.0rc1, 2.12.0, 2.12.1, 2.13.0rc0, 2.13.0rc1, 2.13.0rc2, 2.13.0, 2.13.1, 2.14.0rc0, 2.14.0rc1, 2.14.0, 2.14.1, 2.15.0rc0, 2.15.0rc1, 2.15.0, 2.15.0.post1, 2.15.1, 2.16.0rc0, 2.16.1, 2.16.2, 2.17.0rc0, 2.17.0rc1, 2.17.0, 2.17.1, 2.18.0rc0, 2.18.0rc1, 2.18.0rc2, 2.18.0, 2.18.1, 2.19.0rc0, 2.19.0)\u001b[0m\u001b[31m\n",
      "\u001b[0m\u001b[31mERROR: No matching distribution found for tensorflow==2.8.1\u001b[0m\u001b[31m\n",
      "\u001b[0m"
     ]
    }
   ],
   "source": [
    "!pip install --disable-pip-version-check -q tensorflow==2.8.1"
   ]
  },
  {
   "cell_type": "markdown",
   "id": "17a541a3-46b7-4bbc-a224-aecd8b40f48f",
   "metadata": {},
   "source": [
    "### Hugging Face Transformers (BERT)"
   ]
  },
  {
   "cell_type": "code",
   "execution_count": 6,
   "id": "2db17df9-9cf2-4d7f-8c33-d8836cf30527",
   "metadata": {},
   "outputs": [
    {
     "name": "stdout",
     "output_type": "stream",
     "text": [
      "  \u001b[1;31merror\u001b[0m: \u001b[1msubprocess-exited-with-error\u001b[0m\n",
      "  \n",
      "  \u001b[31m×\u001b[0m \u001b[32mpython setup.py egg_info\u001b[0m did not run successfully.\n",
      "  \u001b[31m│\u001b[0m exit code: \u001b[1;36m1\u001b[0m\n",
      "  \u001b[31m╰─>\u001b[0m \u001b[31m[2 lines of output]\u001b[0m\n",
      "  \u001b[31m   \u001b[0m /bin/sh: 1: pkg-config: not found\n",
      "  \u001b[31m   \u001b[0m Failed to find sentencepiece pkgconfig\n",
      "  \u001b[31m   \u001b[0m \u001b[31m[end of output]\u001b[0m\n",
      "  \n",
      "  \u001b[1;35mnote\u001b[0m: This error originates from a subprocess, and is likely not a problem with pip.\n",
      "\u001b[1;31merror\u001b[0m: \u001b[1mmetadata-generation-failed\u001b[0m\n",
      "\n",
      "\u001b[31m×\u001b[0m Encountered error while generating package metadata.\n",
      "\u001b[31m╰─>\u001b[0m See above for output.\n",
      "\n",
      "\u001b[1;35mnote\u001b[0m: This is an issue with the package mentioned above, not pip.\n",
      "\u001b[1;36mhint\u001b[0m: See above for details.\n"
     ]
    }
   ],
   "source": [
    "!pip install --disable-pip-version-check -q transformers==3.5.1"
   ]
  },
  {
   "cell_type": "markdown",
   "id": "f770e0e8-210d-4ba0-a05d-bb689b134938",
   "metadata": {},
   "source": [
    "### TorchServe"
   ]
  },
  {
   "cell_type": "code",
   "execution_count": 7,
   "id": "adb7aa0c-231d-4a2e-84ba-5873fe918121",
   "metadata": {},
   "outputs": [],
   "source": [
    "!pip install --disable-pip-version-check -q torchserve==0.3.0\n",
    "!pip install --disable-pip-version-check -q torch-model-archiver==0.3.0"
   ]
  },
  {
   "cell_type": "markdown",
   "id": "d75aa043-4d82-4c71-b34a-4781a3df4e15",
   "metadata": {},
   "source": [
    "### PyAthena"
   ]
  },
  {
   "cell_type": "code",
   "execution_count": 8,
   "id": "43c471c5-0cdf-4635-8e28-222fdd88817a",
   "metadata": {},
   "outputs": [
    {
     "name": "stdout",
     "output_type": "stream",
     "text": [
      "\u001b[31mERROR: pip's dependency resolver does not currently take into account all the packages that are installed. This behaviour is the source of the following dependency conflicts.\n",
      "amazon-sagemaker-sql-execution 0.1.6 requires boto3>=1.28.64, but you have boto3 1.16.56 which is incompatible.\n",
      "amazon-sagemaker-sql-execution 0.1.6 requires pyathena<4,>=3.3.0, but you have pyathena 2.1.0 which is incompatible.\n",
      "amazon-sagemaker-sql-magic 0.1.3 requires sqlparse==0.5.0, but you have sqlparse 0.5.3 which is incompatible.\u001b[0m\u001b[31m\n",
      "\u001b[0m"
     ]
    }
   ],
   "source": [
    "!pip install --disable-pip-version-check -q PyAthena==2.1.0"
   ]
  },
  {
   "cell_type": "markdown",
   "id": "8c978930-66d9-4e5a-8442-d23a265f2f65",
   "metadata": {},
   "source": [
    "### Redshift"
   ]
  },
  {
   "cell_type": "code",
   "execution_count": 9,
   "id": "f4745e17-6042-4051-8e79-1bc2c8db0e50",
   "metadata": {},
   "outputs": [
    {
     "name": "stdout",
     "output_type": "stream",
     "text": [
      "\u001b[31mERROR: pip's dependency resolver does not currently take into account all the packages that are installed. This behaviour is the source of the following dependency conflicts.\n",
      "jupyter-scheduler 2.10.0 requires sqlalchemy<3,>=2.0, but you have sqlalchemy 1.3.22 which is incompatible.\n",
      "langchain 0.3.19 requires SQLAlchemy<3,>=1.4, but you have sqlalchemy 1.3.22 which is incompatible.\n",
      "langchain-community 0.3.18 requires SQLAlchemy<3,>=1.4, but you have sqlalchemy 1.3.22 which is incompatible.\n",
      "mlflow 2.20.2 requires sqlalchemy<3,>=1.4.0, but you have sqlalchemy 1.3.22 which is incompatible.\n",
      "optuna 4.2.1 requires sqlalchemy>=1.4.2, but you have sqlalchemy 1.3.22 which is incompatible.\n",
      "sagemaker-mlflow 0.1.0 requires boto3>=1.34, but you have boto3 1.16.56 which is incompatible.\u001b[0m\u001b[31m\n",
      "\u001b[0m"
     ]
    }
   ],
   "source": [
    "!pip install --disable-pip-version-check -q SQLAlchemy==1.3.22"
   ]
  },
  {
   "cell_type": "markdown",
   "id": "5ee57de4-95be-4076-91b3-128acaac8ad9",
   "metadata": {},
   "source": [
    "### AWS Data Wrangler"
   ]
  },
  {
   "cell_type": "code",
   "execution_count": 10,
   "id": "ccb85ffa-4e88-412d-a75d-810c76a1f940",
   "metadata": {},
   "outputs": [
    {
     "name": "stdout",
     "output_type": "stream",
     "text": [
      "\u001b[31mERROR: Ignored the following yanked versions: 3.2.0\u001b[0m\u001b[31m\n",
      "\u001b[0m\u001b[31mERROR: Could not find a version that satisfies the requirement awswrangler==2.15.0 (from versions: 0.0b0, 0.0b2, 0.0b3, 0.0b4, 0.0b5, 0.0b6, 0.0b7, 0.0b8, 0.0b9, 0.0b10, 0.0b11, 0.0b12, 0.0b13, 0.0b14, 0.0b15, 0.0b16, 0.0b17, 0.0b18, 0.0b19, 0.0b20, 0.0b21, 0.0b22, 0.0b23, 0.0b24, 0.0b25, 0.0b26, 0.0b27, 0.0b28, 0.0b29, 0.0b30, 0.0b31, 0.0b32, 0.0.1, 0.0.2, 0.0.3, 0.0.4, 0.0.5, 0.0.6, 0.0.7, 0.0.8, 0.0.9, 0.0.10, 0.0.11, 0.0.12, 0.0.13, 0.0.14, 0.0.15, 0.0.16, 0.0.17, 0.0.18, 0.0.19, 0.0.20, 0.0.21, 0.0.22, 0.0.23, 0.0.24, 0.0.25, 0.1.0, 0.1.1, 0.1.2, 0.1.3, 0.1.4, 0.2.0, 0.2.1, 0.2.2, 0.2.3, 0.2.4, 0.2.5, 0.2.6, 0.3.0, 0.3.1, 0.3.2, 2.18.0, 2.19.0, 2.20.0, 2.20.1, 3.0.0rc1, 3.0.0rc2, 3.0.0rc3, 3.0.0, 3.1.0, 3.1.1, 3.2.1, 3.3.0, 3.4.0, 3.4.1, 3.4.2, 3.5.0, 3.5.1, 3.5.2, 3.6.0, 3.7.0, 3.7.1, 3.7.2, 3.7.3, 3.8.0, 3.9.0, 3.9.1, 3.10.0, 3.10.1, 3.11.0)\u001b[0m\u001b[31m\n",
      "\u001b[0m\u001b[31mERROR: No matching distribution found for awswrangler==2.15.0\u001b[0m\u001b[31m\n",
      "\u001b[0m"
     ]
    }
   ],
   "source": [
    "!pip install --disable-pip-version-check -q awswrangler==2.15.0"
   ]
  },
  {
   "cell_type": "markdown",
   "id": "a93cf434-9735-465c-bb31-a14d2907118a",
   "metadata": {},
   "source": [
    "### StepFunctions"
   ]
  },
  {
   "cell_type": "code",
   "execution_count": 11,
   "id": "580d04a2-ad2f-4274-a475-c9ab3387102c",
   "metadata": {},
   "outputs": [],
   "source": [
    "!pip install --disable-pip-version-check -q stepfunctions==2.0.0rc1"
   ]
  },
  {
   "cell_type": "markdown",
   "id": "40ea3510-01a1-48b2-a07b-fdf3132d9bb3",
   "metadata": {},
   "source": [
    "### Zip"
   ]
  },
  {
   "cell_type": "code",
   "execution_count": 12,
   "id": "a0fe0827-3ec4-4b6e-99c9-6d284649089c",
   "metadata": {},
   "outputs": [
    {
     "name": "stdout",
     "output_type": "stream",
     "text": [
      "Channels:\n",
      " - conda-forge\n",
      "Platform: linux-64\n",
      "doneecting package metadata (repodata.json): - \n",
      "\\ WARNING conda.models.version:get_matcher(563): Using .* with relational operator is superfluous and deprecated and will be removed in a future version of conda. Your spec was 1.0.0.*, but conda is ignoring the .* and treating it as 1.0.0\n",
      "WARNING conda.models.version:get_matcher(563): Using .* with relational operator is superfluous and deprecated and will be removed in a future version of conda. Your spec was 3.0.0.*, but conda is ignoring the .* and treating it as 3.0.0\n",
      "WARNING conda.models.version:get_matcher(563): Using .* with relational operator is superfluous and deprecated and will be removed in a future version of conda. Your spec was 5.0.0.*, but conda is ignoring the .* and treating it as 5.0.0\n",
      "WARNING conda.models.version:get_matcher(563): Using .* with relational operator is superfluous and deprecated and will be removed in a future version of conda. Your spec was 2.0.0.*, but conda is ignoring the .* and treating it as 2.0.0\n",
      "WARNING conda.models.version:get_matcher(563): Using .* with relational operator is superfluous and deprecated and will be removed in a future version of conda. Your spec was 2025.0.0.*, but conda is ignoring the .* and treating it as 2025.0.0\n",
      "WARNING conda.models.version:get_matcher(563): Using .* with relational operator is superfluous and deprecated and will be removed in a future version of conda. Your spec was 25.0.0.*, but conda is ignoring the .* and treating it as 25.0.0\n",
      "WARNING conda.models.version:get_matcher(563): Using .* with relational operator is superfluous and deprecated and will be removed in a future version of conda. Your spec was 8.0.0.*, but conda is ignoring the .* and treating it as 8.0.0\n",
      "WARNING conda.models.version:get_matcher(563): Using .* with relational operator is superfluous and deprecated and will be removed in a future version of conda. Your spec was 4.0.0.*, but conda is ignoring the .* and treating it as 4.0.0\n",
      "WARNING conda.models.version:get_matcher(563): Using .* with relational operator is superfluous and deprecated and will be removed in a future version of conda. Your spec was 6.0.0.*, but conda is ignoring the .* and treating it as 6.0.0\n",
      "WARNING conda.models.version:get_matcher(563): Using .* with relational operator is superfluous and deprecated and will be removed in a future version of conda. Your spec was 0.51.0.*, but conda is ignoring the .* and treating it as 0.51.0\n",
      "WARNING conda.models.version:get_matcher(563): Using .* with relational operator is superfluous and deprecated and will be removed in a future version of conda. Your spec was 9.0.0.*, but conda is ignoring the .* and treating it as 9.0.0\n",
      "WARNING conda.models.version:get_matcher(563): Using .* with relational operator is superfluous and deprecated and will be removed in a future version of conda. Your spec was 28.0.0.*, but conda is ignoring the .* and treating it as 28.0.0\n",
      "WARNING conda.models.version:get_matcher(563): Using .* with relational operator is superfluous and deprecated and will be removed in a future version of conda. Your spec was 1.3.0.*, but conda is ignoring the .* and treating it as 1.3.0\n",
      "failed\n",
      "\n",
      "PackagesNotFoundError: The following packages are not available from current channels:\n",
      "\n",
      "  - uvicorn[version='>=0.34.0,<1.0.0.*']\n",
      "  - torchvision[version='>=0.19.1,<1.0.0.*']\n",
      "  - tf-keras[version='>=2.17.0,<3.0.0.*']\n",
      "  - tensorflow[version='>=2.17.0,<3.0.0.*']\n",
      "  - supervisor[version='>=4.2.5,<5.0.0.*']\n",
      "  - seaborn[version='>=0.13.2,<1.0.0.*']\n",
      "  - scipy[version='>=1.15.1,<2.0.0.*']\n",
      "  - scikit-learn[version='>=1.5.2,<2.0.0.*']\n",
      "  - sagemaker-studio-analytics-extension[version='>=0.1.4,<1.0.0.*']\n",
      "  - sagemaker-python-sdk[version='>=2.228.0,<3.0.0.*']\n",
      "  - sagemaker-mlflow[version='>=0.1.0,<1.0.0.*']\n",
      "  - sagemaker-kernel-wrapper[version='>=0.0.4,<1.0.0.*']\n",
      "  - sagemaker-jupyterlab-extension[version='>=0.3.3,<1.0.0.*']\n",
      "  - sagemaker-jupyterlab-emr-extension[version='>=0.3.7,<1.0.0.*']\n",
      "  - sagemaker-headless-execution-driver[version='>=0.0.13,<1.0.0.*']\n",
      "  - sagemaker-code-editor[version='>=1.4.2,<2.0.0.*']\n",
      "  - s3fs[version='>=2024.10.0,<2025.0.0.*']\n",
      "  - pytorch[version='>=2.4.1,<3.0.0.*']\n",
      "  - python-lsp-server[version='>=1.12.1,<2.0.0.*']\n",
      "  - python-gssapi[version='>=1.9.0,<2.0.0.*']\n",
      "  - pyhive[version='>=0.7.0,<1.0.0.*']\n",
      "  - py-xgboost-cpu[version='>=2.1.4,<3.0.0.*']\n",
      "  - pip[version='>=24.3.1,<25.0.0.*']\n",
      "  - pandas[version='>=2.2.3,<3.0.0.*']\n",
      "  - numpy[version='>=1.26.4,<2.0.0.*']\n",
      "  - notebook[version='>=7.2.2,<8.0.0.*']\n",
      "  - mlflow[version='>=2.20.1,<3.0.0.*']\n",
      "  - matplotlib-base[version='>=3.10.0,<4.0.0.*']\n",
      "  - libmamba[version='>=1.5.12,<2.0.0.*']\n",
      "  - langchain-aws[version='>=0.2.10,<1.0.0.*']\n",
      "  - langchain[version='>=0.3.17,<1.0.0.*']\n",
      "  - keras[version='>=3.8.0,<4.0.0.*']\n",
      "  - jupyterlab-lsp[version='>=5.0.3,<6.0.0.*']\n",
      "  - jupyterlab-git[version='>=0.50.2,<0.51.0.*']\n",
      "  - jupyterlab[version='>=4.2.7,<5.0.0.*']\n",
      "  - jupyter-server-proxy[version='>=4.4.0,<5.0.0.*']\n",
      "  - jupyter-scheduler[version='>=2.10.0,<3.0.0.*']\n",
      "  - jupyter-lsp[version='>=2.2.5,<3.0.0.*']\n",
      "  - jupyter-dash[version='>=0.4.2,<1.0.0.*']\n",
      "  - jupyter-collaboration[version='>=2.1.5,<3.0.0.*']\n",
      "  - jupyter-ai[version='>=2.29.1,<3.0.0.*']\n",
      "  - jupyter-activity-monitor-extension[version='>=0.3.1,<1.0.0.*']\n",
      "  - jinja2[version='>=3.1.5,<4.0.0.*']\n",
      "  - ipywidgets[version='>=8.1.5,<9.0.0.*']\n",
      "  - ipython[version='>=8.31.0,<9.0.0.*']\n",
      "  - git-remote-codecommit[version='>=1.16,<2.0.0.*']\n",
      "  - fastapi[version='>=0.115.8,<1.0.0.*']\n",
      "  - docker-cli[version='>=27.5.1,<28.0.0.*']\n",
      "  - catboost[version='>=1.1.1,<1.3.0.*']\n",
      "  - boto3[version='>=1.36.3,<2.0.0.*']\n",
      "  - aws-glue-sessions[version='>=1.0.8,<2.0.0.*']\n",
      "  - autogluon[version='>=1.2.0,<2.0.0.*']\n",
      "  - amazon_sagemaker_sql_editor[version='>=0.1.14,<1.0.0.*']\n",
      "  - amazon-sagemaker-sql-magic[version='>=0.1.3,<1.0.0.*']\n",
      "  - amazon-sagemaker-jupyter-scheduler[version='>=3.1.9,<4.0.0.*']\n",
      "  - amazon-sagemaker-jupyter-ai-q-developer[version='>=1.0.16,<2.0.0.*']\n",
      "  - amazon-q-developer-jupyterlab-ext[version='>=3.4.6,<4.0.0.*']\n",
      "  - altair[version='>=5.5.0,<6.0.0.*']\n",
      "\n",
      "Current channels:\n",
      "\n",
      "  - https://conda.anaconda.org/conda-forge\n",
      "\n",
      "To search for alternate channels that may provide the conda package you're\n",
      "looking for, navigate to\n",
      "\n",
      "    https://anaconda.org\n",
      "\n",
      "and use the search bar at the top of the page.\n",
      "\n",
      "\n"
     ]
    }
   ],
   "source": [
    "!conda install -y zip"
   ]
  },
  {
   "cell_type": "markdown",
   "id": "17e9ebb8-cf2f-4fe9-ab45-229776e42da4",
   "metadata": {},
   "source": [
    "### Matplotlib"
   ]
  },
  {
   "cell_type": "code",
   "execution_count": 13,
   "id": "2151dbef-8689-4d7d-81a5-9c101adfcfa8",
   "metadata": {},
   "outputs": [
    {
     "name": "stdout",
     "output_type": "stream",
     "text": [
      "\u001b[31mERROR: pip's dependency resolver does not currently take into account all the packages that are installed. This behaviour is the source of the following dependency conflicts.\n",
      "autogluon-multimodal 1.2 requires nvidia-ml-py3==7.352.0, which is not installed.\n",
      "autogluon-core 1.2 requires matplotlib<3.11,>=3.7.0, but you have matplotlib 3.1.3 which is incompatible.\n",
      "autogluon-multimodal 1.2 requires jsonschema<4.22,>=4.18, but you have jsonschema 4.23.0 which is incompatible.\n",
      "autogluon-multimodal 1.2 requires nltk<3.9,>=3.4.5, but you have nltk 3.9.1 which is incompatible.\n",
      "autogluon-multimodal 1.2 requires omegaconf<2.3.0,>=2.1.1, but you have omegaconf 2.3.0 which is incompatible.\n",
      "mlflow 2.20.2 requires sqlalchemy<3,>=1.4.0, but you have sqlalchemy 1.3.22 which is incompatible.\n",
      "sagemaker-mlflow 0.1.0 requires boto3>=1.34, but you have boto3 1.16.56 which is incompatible.\n",
      "seaborn 0.13.2 requires matplotlib!=3.6.1,>=3.4, but you have matplotlib 3.1.3 which is incompatible.\u001b[0m\u001b[31m\n",
      "\u001b[0m"
     ]
    }
   ],
   "source": [
    "!pip install --disable-pip-version-check -q matplotlib==3.1.3"
   ]
  },
  {
   "cell_type": "markdown",
   "id": "6c87b008-1fac-4083-a82d-59dede2a6496",
   "metadata": {},
   "source": [
    "### Seaborn"
   ]
  },
  {
   "cell_type": "code",
   "execution_count": 14,
   "id": "2f6d0153-2a06-442c-bd5c-22c3c6beb258",
   "metadata": {},
   "outputs": [],
   "source": [
    "!pip install --disable-pip-version-check -q seaborn==0.10.0"
   ]
  },
  {
   "cell_type": "code",
   "execution_count": 15,
   "id": "097d7f4c-db36-4359-92da-7bddf9137e18",
   "metadata": {},
   "outputs": [],
   "source": [
    "setup_dependencies_passed = True"
   ]
  },
  {
   "cell_type": "code",
   "execution_count": 16,
   "id": "7e755f8b-4b4f-42cf-9fb3-f64977f070d5",
   "metadata": {},
   "outputs": [
    {
     "name": "stdout",
     "output_type": "stream",
     "text": [
      "Stored 'setup_dependencies_passed' (bool)\n"
     ]
    }
   ],
   "source": [
    "%store setup_dependencies_passed"
   ]
  },
  {
   "cell_type": "code",
   "execution_count": 17,
   "id": "ed97a946-ecaa-4b06-838f-877c1f8c5d37",
   "metadata": {},
   "outputs": [
    {
     "name": "stdout",
     "output_type": "stream",
     "text": [
      "Stored variables and their in-db values:\n",
      "ingest_create_athena_db_passed             -> True\n",
      "s3_cybersentinel_csv                       -> 's3://msads-508-sp25-team6/MSADS 508 Final Project\n",
      "s3_private_csv                             -> 's3://sagemaker-us-east-1-367086635748/msads-508-s\n",
      "s3_public_csv                              -> 's3://msads-508-sp25-team6'\n",
      "setup_dependencies_passed                  -> True\n",
      "setup_iam_roles_passed                     -> True\n",
      "setup_instance_check_passed                -> True\n",
      "setup_s3_bucket_passed                     -> True\n"
     ]
    }
   ],
   "source": [
    "%store"
   ]
  },
  {
   "cell_type": "markdown",
   "id": "0f7391a6-4428-4ce9-898a-c53e52eadf94",
   "metadata": {},
   "source": [
    "## Check the Environment"
   ]
  },
  {
   "cell_type": "code",
   "execution_count": 18,
   "id": "7e7f0d78-35c2-4218-b7ad-0171e9887885",
   "metadata": {},
   "outputs": [
    {
     "ename": "ImportError",
     "evalue": "cannot import name 'DEFAULT_CIPHERS' from 'urllib3.util.ssl_' (/opt/conda/lib/python3.11/site-packages/urllib3/util/ssl_.py)",
     "output_type": "error",
     "traceback": [
      "\u001b[0;31m---------------------------------------------------------------------------\u001b[0m",
      "\u001b[0;31mImportError\u001b[0m                               Traceback (most recent call last)",
      "Cell \u001b[0;32mIn[18], line 1\u001b[0m\n\u001b[0;32m----> 1\u001b[0m \u001b[38;5;28;01mimport\u001b[39;00m\u001b[38;5;250m \u001b[39m\u001b[38;5;21;01mboto3\u001b[39;00m\n\u001b[1;32m      3\u001b[0m region \u001b[38;5;241m=\u001b[39m boto3\u001b[38;5;241m.\u001b[39mSession()\u001b[38;5;241m.\u001b[39mregion_name\n\u001b[1;32m      4\u001b[0m session \u001b[38;5;241m=\u001b[39m boto3\u001b[38;5;241m.\u001b[39msession\u001b[38;5;241m.\u001b[39mSession()\n",
      "File \u001b[0;32m/opt/conda/lib/python3.11/site-packages/boto3/__init__.py:16\u001b[0m\n\u001b[1;32m      1\u001b[0m \u001b[38;5;66;03m# Copyright 2014 Amazon.com, Inc. or its affiliates. All Rights Reserved.\u001b[39;00m\n\u001b[1;32m      2\u001b[0m \u001b[38;5;66;03m#\u001b[39;00m\n\u001b[1;32m      3\u001b[0m \u001b[38;5;66;03m# Licensed under the Apache License, Version 2.0 (the \"License\"). You\u001b[39;00m\n\u001b[0;32m   (...)\u001b[0m\n\u001b[1;32m     11\u001b[0m \u001b[38;5;66;03m# ANY KIND, either express or implied. See the License for the specific\u001b[39;00m\n\u001b[1;32m     12\u001b[0m \u001b[38;5;66;03m# language governing permissions and limitations under the License.\u001b[39;00m\n\u001b[1;32m     14\u001b[0m \u001b[38;5;28;01mimport\u001b[39;00m\u001b[38;5;250m \u001b[39m\u001b[38;5;21;01mlogging\u001b[39;00m\n\u001b[0;32m---> 16\u001b[0m \u001b[38;5;28;01mfrom\u001b[39;00m\u001b[38;5;250m \u001b[39m\u001b[38;5;21;01mboto3\u001b[39;00m\u001b[38;5;21;01m.\u001b[39;00m\u001b[38;5;21;01msession\u001b[39;00m\u001b[38;5;250m \u001b[39m\u001b[38;5;28;01mimport\u001b[39;00m Session\n\u001b[1;32m     17\u001b[0m \u001b[38;5;28;01mfrom\u001b[39;00m\u001b[38;5;250m \u001b[39m\u001b[38;5;21;01mboto3\u001b[39;00m\u001b[38;5;21;01m.\u001b[39;00m\u001b[38;5;21;01mcompat\u001b[39;00m\u001b[38;5;250m \u001b[39m\u001b[38;5;28;01mimport\u001b[39;00m _warn_deprecated_python\n\u001b[1;32m     20\u001b[0m __author__ \u001b[38;5;241m=\u001b[39m \u001b[38;5;124m'\u001b[39m\u001b[38;5;124mAmazon Web Services\u001b[39m\u001b[38;5;124m'\u001b[39m\n",
      "File \u001b[0;32m/opt/conda/lib/python3.11/site-packages/boto3/session.py:17\u001b[0m\n\u001b[1;32m     14\u001b[0m \u001b[38;5;28;01mimport\u001b[39;00m\u001b[38;5;250m \u001b[39m\u001b[38;5;21;01mcopy\u001b[39;00m\n\u001b[1;32m     15\u001b[0m \u001b[38;5;28;01mimport\u001b[39;00m\u001b[38;5;250m \u001b[39m\u001b[38;5;21;01mos\u001b[39;00m\n\u001b[0;32m---> 17\u001b[0m \u001b[38;5;28;01mimport\u001b[39;00m\u001b[38;5;250m \u001b[39m\u001b[38;5;21;01mbotocore\u001b[39;00m\u001b[38;5;21;01m.\u001b[39;00m\u001b[38;5;21;01msession\u001b[39;00m\n\u001b[1;32m     18\u001b[0m \u001b[38;5;28;01mfrom\u001b[39;00m\u001b[38;5;250m \u001b[39m\u001b[38;5;21;01mbotocore\u001b[39;00m\u001b[38;5;21;01m.\u001b[39;00m\u001b[38;5;21;01mclient\u001b[39;00m\u001b[38;5;250m \u001b[39m\u001b[38;5;28;01mimport\u001b[39;00m Config\n\u001b[1;32m     19\u001b[0m \u001b[38;5;28;01mfrom\u001b[39;00m\u001b[38;5;250m \u001b[39m\u001b[38;5;21;01mbotocore\u001b[39;00m\u001b[38;5;21;01m.\u001b[39;00m\u001b[38;5;21;01mexceptions\u001b[39;00m\u001b[38;5;250m \u001b[39m\u001b[38;5;28;01mimport\u001b[39;00m DataNotFoundError, UnknownServiceError\n",
      "File \u001b[0;32m/opt/conda/lib/python3.11/site-packages/botocore/session.py:30\u001b[0m\n\u001b[1;32m     28\u001b[0m \u001b[38;5;28;01mfrom\u001b[39;00m\u001b[38;5;250m \u001b[39m\u001b[38;5;21;01mbotocore\u001b[39;00m\u001b[38;5;250m \u001b[39m\u001b[38;5;28;01mimport\u001b[39;00m UNSIGNED\n\u001b[1;32m     29\u001b[0m \u001b[38;5;28;01mimport\u001b[39;00m\u001b[38;5;250m \u001b[39m\u001b[38;5;21;01mbotocore\u001b[39;00m\u001b[38;5;21;01m.\u001b[39;00m\u001b[38;5;21;01mconfigloader\u001b[39;00m\n\u001b[0;32m---> 30\u001b[0m \u001b[38;5;28;01mimport\u001b[39;00m\u001b[38;5;250m \u001b[39m\u001b[38;5;21;01mbotocore\u001b[39;00m\u001b[38;5;21;01m.\u001b[39;00m\u001b[38;5;21;01mcredentials\u001b[39;00m\n\u001b[1;32m     31\u001b[0m \u001b[38;5;28;01mimport\u001b[39;00m\u001b[38;5;250m \u001b[39m\u001b[38;5;21;01mbotocore\u001b[39;00m\u001b[38;5;21;01m.\u001b[39;00m\u001b[38;5;21;01mclient\u001b[39;00m\n\u001b[1;32m     32\u001b[0m \u001b[38;5;28;01mfrom\u001b[39;00m\u001b[38;5;250m \u001b[39m\u001b[38;5;21;01mbotocore\u001b[39;00m\u001b[38;5;21;01m.\u001b[39;00m\u001b[38;5;21;01mconfigprovider\u001b[39;00m\u001b[38;5;250m \u001b[39m\u001b[38;5;28;01mimport\u001b[39;00m ConfigValueStore\n",
      "File \u001b[0;32m/opt/conda/lib/python3.11/site-packages/botocore/credentials.py:34\u001b[0m\n\u001b[1;32m     32\u001b[0m \u001b[38;5;28;01mfrom\u001b[39;00m\u001b[38;5;250m \u001b[39m\u001b[38;5;21;01mbotocore\u001b[39;00m\u001b[38;5;21;01m.\u001b[39;00m\u001b[38;5;21;01mcompat\u001b[39;00m\u001b[38;5;250m \u001b[39m\u001b[38;5;28;01mimport\u001b[39;00m total_seconds\n\u001b[1;32m     33\u001b[0m \u001b[38;5;28;01mfrom\u001b[39;00m\u001b[38;5;250m \u001b[39m\u001b[38;5;21;01mbotocore\u001b[39;00m\u001b[38;5;21;01m.\u001b[39;00m\u001b[38;5;21;01mcompat\u001b[39;00m\u001b[38;5;250m \u001b[39m\u001b[38;5;28;01mimport\u001b[39;00m compat_shell_split\n\u001b[0;32m---> 34\u001b[0m \u001b[38;5;28;01mfrom\u001b[39;00m\u001b[38;5;250m \u001b[39m\u001b[38;5;21;01mbotocore\u001b[39;00m\u001b[38;5;21;01m.\u001b[39;00m\u001b[38;5;21;01mconfig\u001b[39;00m\u001b[38;5;250m \u001b[39m\u001b[38;5;28;01mimport\u001b[39;00m Config\n\u001b[1;32m     35\u001b[0m \u001b[38;5;28;01mfrom\u001b[39;00m\u001b[38;5;250m \u001b[39m\u001b[38;5;21;01mbotocore\u001b[39;00m\u001b[38;5;21;01m.\u001b[39;00m\u001b[38;5;21;01mexceptions\u001b[39;00m\u001b[38;5;250m \u001b[39m\u001b[38;5;28;01mimport\u001b[39;00m UnknownCredentialError\n\u001b[1;32m     36\u001b[0m \u001b[38;5;28;01mfrom\u001b[39;00m\u001b[38;5;250m \u001b[39m\u001b[38;5;21;01mbotocore\u001b[39;00m\u001b[38;5;21;01m.\u001b[39;00m\u001b[38;5;21;01mexceptions\u001b[39;00m\u001b[38;5;250m \u001b[39m\u001b[38;5;28;01mimport\u001b[39;00m PartialCredentialsError\n",
      "File \u001b[0;32m/opt/conda/lib/python3.11/site-packages/botocore/config.py:16\u001b[0m\n\u001b[1;32m     13\u001b[0m \u001b[38;5;28;01mimport\u001b[39;00m\u001b[38;5;250m \u001b[39m\u001b[38;5;21;01mcopy\u001b[39;00m\n\u001b[1;32m     14\u001b[0m \u001b[38;5;28;01mfrom\u001b[39;00m\u001b[38;5;250m \u001b[39m\u001b[38;5;21;01mbotocore\u001b[39;00m\u001b[38;5;21;01m.\u001b[39;00m\u001b[38;5;21;01mcompat\u001b[39;00m\u001b[38;5;250m \u001b[39m\u001b[38;5;28;01mimport\u001b[39;00m OrderedDict\n\u001b[0;32m---> 16\u001b[0m \u001b[38;5;28;01mfrom\u001b[39;00m\u001b[38;5;250m \u001b[39m\u001b[38;5;21;01mbotocore\u001b[39;00m\u001b[38;5;21;01m.\u001b[39;00m\u001b[38;5;21;01mendpoint\u001b[39;00m\u001b[38;5;250m \u001b[39m\u001b[38;5;28;01mimport\u001b[39;00m DEFAULT_TIMEOUT, MAX_POOL_CONNECTIONS\n\u001b[1;32m     17\u001b[0m \u001b[38;5;28;01mfrom\u001b[39;00m\u001b[38;5;250m \u001b[39m\u001b[38;5;21;01mbotocore\u001b[39;00m\u001b[38;5;21;01m.\u001b[39;00m\u001b[38;5;21;01mexceptions\u001b[39;00m\u001b[38;5;250m \u001b[39m\u001b[38;5;28;01mimport\u001b[39;00m InvalidS3AddressingStyleError\n\u001b[1;32m     18\u001b[0m \u001b[38;5;28;01mfrom\u001b[39;00m\u001b[38;5;250m \u001b[39m\u001b[38;5;21;01mbotocore\u001b[39;00m\u001b[38;5;21;01m.\u001b[39;00m\u001b[38;5;21;01mexceptions\u001b[39;00m\u001b[38;5;250m \u001b[39m\u001b[38;5;28;01mimport\u001b[39;00m InvalidRetryConfigurationError\n",
      "File \u001b[0;32m/opt/conda/lib/python3.11/site-packages/botocore/endpoint.py:22\u001b[0m\n\u001b[1;32m     18\u001b[0m \u001b[38;5;28;01mimport\u001b[39;00m\u001b[38;5;250m \u001b[39m\u001b[38;5;21;01mthreading\u001b[39;00m\n\u001b[1;32m     20\u001b[0m \u001b[38;5;28;01mfrom\u001b[39;00m\u001b[38;5;250m \u001b[39m\u001b[38;5;21;01mbotocore\u001b[39;00m\u001b[38;5;21;01m.\u001b[39;00m\u001b[38;5;21;01mvendored\u001b[39;00m\u001b[38;5;250m \u001b[39m\u001b[38;5;28;01mimport\u001b[39;00m six\n\u001b[0;32m---> 22\u001b[0m \u001b[38;5;28;01mfrom\u001b[39;00m\u001b[38;5;250m \u001b[39m\u001b[38;5;21;01mbotocore\u001b[39;00m\u001b[38;5;21;01m.\u001b[39;00m\u001b[38;5;21;01mawsrequest\u001b[39;00m\u001b[38;5;250m \u001b[39m\u001b[38;5;28;01mimport\u001b[39;00m create_request_object\n\u001b[1;32m     23\u001b[0m \u001b[38;5;28;01mfrom\u001b[39;00m\u001b[38;5;250m \u001b[39m\u001b[38;5;21;01mbotocore\u001b[39;00m\u001b[38;5;21;01m.\u001b[39;00m\u001b[38;5;21;01mexceptions\u001b[39;00m\u001b[38;5;250m \u001b[39m\u001b[38;5;28;01mimport\u001b[39;00m HTTPClientError\n\u001b[1;32m     24\u001b[0m \u001b[38;5;28;01mfrom\u001b[39;00m\u001b[38;5;250m \u001b[39m\u001b[38;5;21;01mbotocore\u001b[39;00m\u001b[38;5;21;01m.\u001b[39;00m\u001b[38;5;21;01mhttpsession\u001b[39;00m\u001b[38;5;250m \u001b[39m\u001b[38;5;28;01mimport\u001b[39;00m URLLib3Session\n",
      "File \u001b[0;32m/opt/conda/lib/python3.11/site-packages/botocore/awsrequest.py:25\u001b[0m\n\u001b[1;32m     22\u001b[0m \u001b[38;5;28;01mfrom\u001b[39;00m\u001b[38;5;250m \u001b[39m\u001b[38;5;21;01murllib3\u001b[39;00m\u001b[38;5;21;01m.\u001b[39;00m\u001b[38;5;21;01mconnectionpool\u001b[39;00m\u001b[38;5;250m \u001b[39m\u001b[38;5;28;01mimport\u001b[39;00m HTTPConnectionPool\n\u001b[1;32m     23\u001b[0m \u001b[38;5;28;01mfrom\u001b[39;00m\u001b[38;5;250m \u001b[39m\u001b[38;5;21;01murllib3\u001b[39;00m\u001b[38;5;21;01m.\u001b[39;00m\u001b[38;5;21;01mconnectionpool\u001b[39;00m\u001b[38;5;250m \u001b[39m\u001b[38;5;28;01mimport\u001b[39;00m HTTPSConnectionPool\n\u001b[0;32m---> 25\u001b[0m \u001b[38;5;28;01mimport\u001b[39;00m\u001b[38;5;250m \u001b[39m\u001b[38;5;21;01mbotocore\u001b[39;00m\u001b[38;5;21;01m.\u001b[39;00m\u001b[38;5;21;01mutils\u001b[39;00m\n\u001b[1;32m     26\u001b[0m \u001b[38;5;28;01mfrom\u001b[39;00m\u001b[38;5;250m \u001b[39m\u001b[38;5;21;01mbotocore\u001b[39;00m\u001b[38;5;21;01m.\u001b[39;00m\u001b[38;5;21;01mcompat\u001b[39;00m\u001b[38;5;250m \u001b[39m\u001b[38;5;28;01mimport\u001b[39;00m six\n\u001b[1;32m     27\u001b[0m \u001b[38;5;28;01mfrom\u001b[39;00m\u001b[38;5;250m \u001b[39m\u001b[38;5;21;01mbotocore\u001b[39;00m\u001b[38;5;21;01m.\u001b[39;00m\u001b[38;5;21;01mcompat\u001b[39;00m\u001b[38;5;250m \u001b[39m\u001b[38;5;28;01mimport\u001b[39;00m HTTPHeaders, HTTPResponse, urlunsplit, urlsplit, \\\n\u001b[1;32m     28\u001b[0m      urlencode, MutableMapping\n",
      "File \u001b[0;32m/opt/conda/lib/python3.11/site-packages/botocore/utils.py:33\u001b[0m\n\u001b[1;32m     31\u001b[0m \u001b[38;5;28;01mimport\u001b[39;00m\u001b[38;5;250m \u001b[39m\u001b[38;5;21;01mbotocore\u001b[39;00m\n\u001b[1;32m     32\u001b[0m \u001b[38;5;28;01mimport\u001b[39;00m\u001b[38;5;250m \u001b[39m\u001b[38;5;21;01mbotocore\u001b[39;00m\u001b[38;5;21;01m.\u001b[39;00m\u001b[38;5;21;01mawsrequest\u001b[39;00m\n\u001b[0;32m---> 33\u001b[0m \u001b[38;5;28;01mimport\u001b[39;00m\u001b[38;5;250m \u001b[39m\u001b[38;5;21;01mbotocore\u001b[39;00m\u001b[38;5;21;01m.\u001b[39;00m\u001b[38;5;21;01mhttpsession\u001b[39;00m\n\u001b[1;32m     34\u001b[0m \u001b[38;5;28;01mfrom\u001b[39;00m\u001b[38;5;250m \u001b[39m\u001b[38;5;21;01mbotocore\u001b[39;00m\u001b[38;5;21;01m.\u001b[39;00m\u001b[38;5;21;01mcompat\u001b[39;00m\u001b[38;5;250m \u001b[39m\u001b[38;5;28;01mimport\u001b[39;00m (\n\u001b[1;32m     35\u001b[0m         json, quote, zip_longest, urlsplit, urlunsplit, OrderedDict,\n\u001b[1;32m     36\u001b[0m         six, urlparse, get_tzinfo_options, get_md5, MD5_AVAILABLE\n\u001b[1;32m     37\u001b[0m )\n\u001b[1;32m     38\u001b[0m \u001b[38;5;28;01mfrom\u001b[39;00m\u001b[38;5;250m \u001b[39m\u001b[38;5;21;01mbotocore\u001b[39;00m\u001b[38;5;21;01m.\u001b[39;00m\u001b[38;5;21;01mvendored\u001b[39;00m\u001b[38;5;21;01m.\u001b[39;00m\u001b[38;5;21;01msix\u001b[39;00m\u001b[38;5;21;01m.\u001b[39;00m\u001b[38;5;21;01mmoves\u001b[39;00m\u001b[38;5;21;01m.\u001b[39;00m\u001b[38;5;21;01murllib\u001b[39;00m\u001b[38;5;21;01m.\u001b[39;00m\u001b[38;5;21;01mrequest\u001b[39;00m\u001b[38;5;250m \u001b[39m\u001b[38;5;28;01mimport\u001b[39;00m getproxies, proxy_bypass\n",
      "File \u001b[0;32m/opt/conda/lib/python3.11/site-packages/botocore/httpsession.py:8\u001b[0m\n\u001b[1;32m      6\u001b[0m \u001b[38;5;28;01mfrom\u001b[39;00m\u001b[38;5;250m \u001b[39m\u001b[38;5;21;01murllib3\u001b[39;00m\u001b[38;5;250m \u001b[39m\u001b[38;5;28;01mimport\u001b[39;00m PoolManager, ProxyManager, proxy_from_url, Timeout\n\u001b[1;32m      7\u001b[0m \u001b[38;5;28;01mfrom\u001b[39;00m\u001b[38;5;250m \u001b[39m\u001b[38;5;21;01murllib3\u001b[39;00m\u001b[38;5;21;01m.\u001b[39;00m\u001b[38;5;21;01mutil\u001b[39;00m\u001b[38;5;21;01m.\u001b[39;00m\u001b[38;5;21;01mretry\u001b[39;00m\u001b[38;5;250m \u001b[39m\u001b[38;5;28;01mimport\u001b[39;00m Retry\n\u001b[0;32m----> 8\u001b[0m \u001b[38;5;28;01mfrom\u001b[39;00m\u001b[38;5;250m \u001b[39m\u001b[38;5;21;01murllib3\u001b[39;00m\u001b[38;5;21;01m.\u001b[39;00m\u001b[38;5;21;01mutil\u001b[39;00m\u001b[38;5;21;01m.\u001b[39;00m\u001b[38;5;21;01mssl_\u001b[39;00m\u001b[38;5;250m \u001b[39m\u001b[38;5;28;01mimport\u001b[39;00m (\n\u001b[1;32m      9\u001b[0m     ssl, OP_NO_SSLv2, OP_NO_SSLv3, OP_NO_COMPRESSION, DEFAULT_CIPHERS,\n\u001b[1;32m     10\u001b[0m )\n\u001b[1;32m     11\u001b[0m \u001b[38;5;28;01mfrom\u001b[39;00m\u001b[38;5;250m \u001b[39m\u001b[38;5;21;01murllib3\u001b[39;00m\u001b[38;5;21;01m.\u001b[39;00m\u001b[38;5;21;01mexceptions\u001b[39;00m\u001b[38;5;250m \u001b[39m\u001b[38;5;28;01mimport\u001b[39;00m SSLError \u001b[38;5;28;01mas\u001b[39;00m URLLib3SSLError\n\u001b[1;32m     12\u001b[0m \u001b[38;5;28;01mfrom\u001b[39;00m\u001b[38;5;250m \u001b[39m\u001b[38;5;21;01murllib3\u001b[39;00m\u001b[38;5;21;01m.\u001b[39;00m\u001b[38;5;21;01mexceptions\u001b[39;00m\u001b[38;5;250m \u001b[39m\u001b[38;5;28;01mimport\u001b[39;00m ReadTimeoutError \u001b[38;5;28;01mas\u001b[39;00m URLLib3ReadTimeoutError\n",
      "\u001b[0;31mImportError\u001b[0m: cannot import name 'DEFAULT_CIPHERS' from 'urllib3.util.ssl_' (/opt/conda/lib/python3.11/site-packages/urllib3/util/ssl_.py)"
     ]
    }
   ],
   "source": [
    "import boto3\n",
    "\n",
    "region = boto3.Session().region_name\n",
    "session = boto3.session.Session()\n",
    "\n",
    "ec2 = boto3.Session().client(service_name=\"ec2\", region_name=region)\n",
    "sm = boto3.Session().client(service_name=\"sagemaker\", region_name=region)"
   ]
  },
  {
   "cell_type": "code",
   "execution_count": null,
   "id": "aec90996-6b0b-4e5d-8f7a-71c1cdfc63cb",
   "metadata": {},
   "outputs": [],
   "source": [
    "import json\n",
    "\n",
    "notebook_instance_name = None\n",
    "\n",
    "try:\n",
    "    with open(\"/opt/ml/metadata/resource-metadata.json\") as notebook_info:\n",
    "        data = json.load(notebook_info)\n",
    "        domain_id = data[\"DomainId\"]\n",
    "        resource_arn = data[\"ResourceArn\"]\n",
    "        region = resource_arn.split(\":\")[3]\n",
    "        name = data[\"ResourceName\"]\n",
    "    print(\"DomainId: {}\".format(domain_id))\n",
    "    print(\"Name: {}\".format(name))\n",
    "except:\n",
    "    print(\"+++++++++++++++++++++++++++++++++++++++++\")\n",
    "    print(\"[ERROR]: COULD NOT RETRIEVE THE METADATA.\")\n",
    "    print(\"+++++++++++++++++++++++++++++++++++++++++\")"
   ]
  },
  {
   "cell_type": "code",
   "execution_count": null,
   "id": "0689d887-a740-46c4-896d-2d28f0ad3309",
   "metadata": {},
   "outputs": [],
   "source": [
    "describe_domain_response = sm.describe_domain(DomainId=domain_id)\n",
    "print(describe_domain_response[\"Status\"])"
   ]
  },
  {
   "cell_type": "code",
   "execution_count": null,
   "id": "170496e9-59ce-4441-817a-5b280e81655a",
   "metadata": {},
   "outputs": [],
   "source": [
    "try:\n",
    "    get_status_response = sm.get_sagemaker_servicecatalog_portfolio_status()\n",
    "    print(get_status_response[\"Status\"])\n",
    "except:\n",
    "    pass"
   ]
  },
  {
   "cell_type": "code",
   "execution_count": null,
   "id": "35c1813b-cf4c-491d-af0d-004742ec1a52",
   "metadata": {},
   "outputs": [],
   "source": [
    "if (\n",
    "    describe_domain_response[\"Status\"] == \"InService\"\n",
    "    and get_status_response[\"Status\"] == \"Enabled\"\n",
    "    and \"default\" in name\n",
    "):\n",
    "    setup_instance_check_passed = True\n",
    "    print(\"[OK] Checks passed!  Great Job!!  Please Continue.\")\n",
    "else:\n",
    "    setup_instance_check_passed = False\n",
    "    print(\"+++++++++++++++++++++++++++++++++++++++++++++++\")\n",
    "    print(\"[ERROR]: WE HAVE IDENTIFIED A MISCONFIGURATION.\")\n",
    "    print(describe_domain_response[\"Status\"])\n",
    "    print(get_status_response[\"Status\"])\n",
    "    print(name)\n",
    "    print(\"+++++++++++++++++++++++++++++++++++++++++++++++\")"
   ]
  },
  {
   "cell_type": "code",
   "execution_count": null,
   "id": "17ca1f06-5a39-44eb-9d7c-99a1983351d0",
   "metadata": {},
   "outputs": [],
   "source": [
    "print(setup_instance_check_passed)"
   ]
  },
  {
   "cell_type": "code",
   "execution_count": null,
   "id": "12e08200-585b-4e44-bf66-e39dfb2a603d",
   "metadata": {},
   "outputs": [],
   "source": [
    "%store setup_instance_check_passed"
   ]
  },
  {
   "cell_type": "code",
   "execution_count": null,
   "id": "ee42a308-ffc5-4a30-898f-64ae88be734f",
   "metadata": {},
   "outputs": [],
   "source": [
    "%store"
   ]
  },
  {
   "cell_type": "markdown",
   "id": "4c08ef72-0e14-49fd-9fcb-0281179ae3fe",
   "metadata": {},
   "source": [
    "## Create S3 Bucket"
   ]
  },
  {
   "cell_type": "code",
   "execution_count": null,
   "id": "55d88cad-3d14-4de7-b1b0-269e18cee43d",
   "metadata": {},
   "outputs": [],
   "source": [
    "!pip install --disable-pip-version-check -q sagemaker==2.29.0\n",
    "import boto3\n",
    "import sagemaker\n",
    "\n",
    "session = boto3.session.Session()\n",
    "region = session.region_name\n",
    "sagemaker_session = sagemaker.Session()\n",
    "bucket = sagemaker_session.default_bucket()\n",
    "\n",
    "s3 = boto3.Session().client(service_name=\"s3\", region_name=region)"
   ]
  },
  {
   "cell_type": "code",
   "execution_count": null,
   "id": "75f3cad6-0f33-485c-9f0f-006d2b634a08",
   "metadata": {},
   "outputs": [],
   "source": [
    "setup_s3_bucket_passed = False"
   ]
  },
  {
   "cell_type": "code",
   "execution_count": null,
   "id": "dbad2338-8dcc-4403-bb63-3fd609db37b5",
   "metadata": {},
   "outputs": [],
   "source": [
    "print(\"Default bucket: {}\".format(bucket))"
   ]
  },
  {
   "cell_type": "markdown",
   "id": "e40f6529-137a-40ea-a1ad-928ddecb0f96",
   "metadata": {},
   "source": [
    "### Verify S3_BUCKET Bucket Creation"
   ]
  },
  {
   "cell_type": "code",
   "execution_count": null,
   "id": "86e06817-ef42-4b80-b9c4-f3b123443de3",
   "metadata": {},
   "outputs": [],
   "source": [
    "%%bash\n",
    "\n",
    "aws s3 ls s3://${bucket}/"
   ]
  },
  {
   "cell_type": "code",
   "execution_count": null,
   "id": "cf44deb4-ba3c-4916-a532-046659dd97f6",
   "metadata": {},
   "outputs": [],
   "source": [
    "from botocore.client import ClientError\n",
    "\n",
    "response = None\n",
    "\n",
    "try:\n",
    "    response = s3.head_bucket(Bucket=bucket)\n",
    "    print(response)\n",
    "    setup_s3_bucket_passed = True\n",
    "except ClientError as e:\n",
    "    print(\"[ERROR] Cannot find bucket {} in {} due to {}.\".format(bucket, response, e))"
   ]
  },
  {
   "cell_type": "code",
   "execution_count": null,
   "id": "57bed260-cf52-423e-97d7-afcc05d18bcb",
   "metadata": {},
   "outputs": [],
   "source": [
    "%store setup_s3_bucket_passed"
   ]
  },
  {
   "cell_type": "code",
   "execution_count": null,
   "id": "ccb65e63-bd5b-4ddb-83a7-2316c18ae9d4",
   "metadata": {},
   "outputs": [],
   "source": [
    "%store"
   ]
  },
  {
   "cell_type": "markdown",
   "id": "1daa5971-6c5a-4c47-951a-0dfb18b0ba9b",
   "metadata": {},
   "source": [
    "## Update IAM Roles and Policies"
   ]
  },
  {
   "cell_type": "code",
   "execution_count": null,
   "id": "84244420-6349-4b91-8f49-94fad4562de4",
   "metadata": {},
   "outputs": [],
   "source": [
    "import boto3\n",
    "import sagemaker\n",
    "import time\n",
    "from time import gmtime, strftime\n",
    "\n",
    "sagemaker_session = sagemaker.Session()\n",
    "role = sagemaker.get_execution_role()\n",
    "bucket = sagemaker_session.default_bucket()\n",
    "region = boto3.Session().region_name\n",
    "\n",
    "from botocore.config import Config\n",
    "\n",
    "config = Config(retries={\"max_attempts\": 10, \"mode\": \"adaptive\"})\n",
    "\n",
    "iam = boto3.client(\"iam\", config=config)"
   ]
  },
  {
   "cell_type": "code",
   "execution_count": null,
   "id": "128fdd22-181d-49ed-974c-6d2663de28fb",
   "metadata": {},
   "outputs": [],
   "source": [
    "role_name = role.split(\"/\")[-1]\n",
    "\n",
    "print(\"Role name: {}\".format(role_name))"
   ]
  },
  {
   "cell_type": "code",
   "execution_count": null,
   "id": "33828169-1e76-44f3-bf81-6a73e414af9d",
   "metadata": {},
   "outputs": [],
   "source": [
    "setup_iam_roles_passed = False"
   ]
  },
  {
   "cell_type": "markdown",
   "id": "48167e36-365c-4864-b85f-319d80be34fa",
   "metadata": {},
   "source": [
    "### Pre-Requisite: SageMaker notebook instance ExecutionRole contains IAMFullAccess Policy."
   ]
  },
  {
   "cell_type": "code",
   "execution_count": null,
   "id": "49b4aba2-1b68-4d4e-b59e-c68376a2ac9d",
   "metadata": {},
   "outputs": [],
   "source": [
    "admin = False\n",
    "post_policies = iam.list_attached_role_policies(RoleName=role_name)[\"AttachedPolicies\"]\n",
    "for post_policy in post_policies:\n",
    "    if post_policy[\"PolicyName\"] == \"AdministratorAccess\":\n",
    "        admin = True\n",
    "        break\n",
    "\n",
    "setup_iam_roles_passed = True\n",
    "print(\"[OK] You are all set up to continue with this workshop!\")"
   ]
  },
  {
   "cell_type": "code",
   "execution_count": null,
   "id": "cda47db1-70ac-4873-a4d2-1d16ff5e0495",
   "metadata": {},
   "outputs": [],
   "source": [
    "%store setup_iam_roles_passed"
   ]
  },
  {
   "cell_type": "code",
   "execution_count": null,
   "id": "1efe69e2-4a8a-44e0-8c8d-ee25fd364d0f",
   "metadata": {},
   "outputs": [],
   "source": [
    "%store"
   ]
  },
  {
   "cell_type": "code",
   "execution_count": null,
   "id": "5589d657-9978-445d-ae17-b4262efa94f2",
   "metadata": {},
   "outputs": [],
   "source": []
  }
 ],
 "metadata": {
  "kernelspec": {
   "display_name": "Python 3 (ipykernel)",
   "language": "python",
   "name": "python3"
  },
  "language_info": {
   "codemirror_mode": {
    "name": "ipython",
    "version": 3
   },
   "file_extension": ".py",
   "mimetype": "text/x-python",
   "name": "python",
   "nbconvert_exporter": "python",
   "pygments_lexer": "ipython3",
   "version": "3.11.11"
  }
 },
 "nbformat": 4,
 "nbformat_minor": 5
}
