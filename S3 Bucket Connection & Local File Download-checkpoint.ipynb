{
 "cells": [
  {
   "cell_type": "markdown",
   "id": "4b48b0b9-5b70-4d3f-a744-0f7169171f74",
   "metadata": {},
   "source": [
    "# MSADS 508 CyberSentinel Security Solutions\n",
    "## S3 Bucket Connection & Local File Download"
   ]
  },
  {
   "cell_type": "markdown",
   "id": "c04e06ee-a3c8-4ea8-b7e7-a25f885c0932",
   "metadata": {},
   "source": [
    "## Check Pre-Requisites from Notebook Dependencies"
   ]
  },
  {
   "cell_type": "code",
   "execution_count": 1,
   "id": "218676cc-6ed3-437d-8ac2-30ac26e8e960",
   "metadata": {},
   "outputs": [],
   "source": [
    "%store -r setup_instance_check_passed"
   ]
  },
  {
   "cell_type": "code",
   "execution_count": 2,
   "id": "e48a9fe4-2c67-4fb2-b403-34086030dedb",
   "metadata": {},
   "outputs": [],
   "source": [
    "try:\n",
    "    setup_instance_check_passed\n",
    "except NameError:\n",
    "    print(\"[ERROR]\")"
   ]
  },
  {
   "cell_type": "code",
   "execution_count": 3,
   "id": "c09fa0a7-4638-4a6a-87fc-3f503fcff3e3",
   "metadata": {},
   "outputs": [
    {
     "name": "stdout",
     "output_type": "stream",
     "text": [
      "True\n"
     ]
    }
   ],
   "source": [
    "print(setup_instance_check_passed)"
   ]
  },
  {
   "cell_type": "code",
   "execution_count": 4,
   "id": "3c4f9e50-cc93-4b44-ad88-ae3d8c03f814",
   "metadata": {},
   "outputs": [],
   "source": [
    "%store -r setup_dependencies_passed"
   ]
  },
  {
   "cell_type": "code",
   "execution_count": 5,
   "id": "fbc582b4-4e52-45f9-9932-889239c02b56",
   "metadata": {},
   "outputs": [],
   "source": [
    "try:\n",
    "    setup_dependencies_passed\n",
    "except NameError:\n",
    "    print(\"+++++++++++++++++++++++++++++++\")\n",
    "    print(\"[ERROR] YOU HAVE TO RUN ALL NOTEBOOKS IN THE SETUP FOLDER FIRST. You are missing Setup Dependencies.\")\n",
    "    print(\"+++++++++++++++++++++++++++++++\")"
   ]
  },
  {
   "cell_type": "code",
   "execution_count": 6,
   "id": "51d66abd-93e1-4c52-9bb6-20d01a9128fb",
   "metadata": {},
   "outputs": [
    {
     "name": "stdout",
     "output_type": "stream",
     "text": [
      "True\n"
     ]
    }
   ],
   "source": [
    "print(setup_dependencies_passed)"
   ]
  },
  {
   "cell_type": "code",
   "execution_count": 7,
   "id": "23d555d4-49ed-41e5-80ff-6f079802773e",
   "metadata": {},
   "outputs": [],
   "source": [
    "%store -r setup_s3_bucket_passed"
   ]
  },
  {
   "cell_type": "code",
   "execution_count": 8,
   "id": "5ae987b8-565a-4758-87c3-11ef163c8053",
   "metadata": {},
   "outputs": [],
   "source": [
    "try:\n",
    "    setup_s3_bucket_passed\n",
    "except NameError:\n",
    "    print(\"+++++++++++++++++++++++++++++++\")\n",
    "    print(\"[ERROR] YOU HAVE TO RUN ALL NOTEBOOKS IN THE SETUP FOLDER FIRST. You are missing Setup S3 Bucket.\")\n",
    "    print(\"+++++++++++++++++++++++++++++++\")"
   ]
  },
  {
   "cell_type": "code",
   "execution_count": 9,
   "id": "c957d77a-9c4a-420b-9c37-54c5c734f76c",
   "metadata": {},
   "outputs": [
    {
     "name": "stdout",
     "output_type": "stream",
     "text": [
      "True\n"
     ]
    }
   ],
   "source": [
    "print(setup_s3_bucket_passed)"
   ]
  },
  {
   "cell_type": "code",
   "execution_count": 10,
   "id": "fd245936-0642-4a11-b271-1356e5b508ff",
   "metadata": {},
   "outputs": [],
   "source": [
    "%store -r setup_iam_roles_passed"
   ]
  },
  {
   "cell_type": "code",
   "execution_count": 11,
   "id": "ba0f08e0-69e4-4d8f-ad65-87bf5d16d4ff",
   "metadata": {},
   "outputs": [],
   "source": [
    "try:\n",
    "    setup_iam_roles_passed\n",
    "except NameError:\n",
    "    print(\"+++++++++++++++++++++++++++++++\")\n",
    "    print(\"[ERROR] YOU HAVE TO RUN ALL NOTEBOOKS IN THE SETUP FOLDER FIRST. You are missing Setup IAM Roles.\")\n",
    "    print(\"+++++++++++++++++++++++++++++++\")"
   ]
  },
  {
   "cell_type": "code",
   "execution_count": 12,
   "id": "274e3c16-d568-4134-95eb-8732471da201",
   "metadata": {},
   "outputs": [
    {
     "name": "stdout",
     "output_type": "stream",
     "text": [
      "True\n"
     ]
    }
   ],
   "source": [
    "print(setup_iam_roles_passed)"
   ]
  },
  {
   "cell_type": "code",
   "execution_count": 13,
   "id": "f8e93c32-2124-4caa-b90c-9179e398f2e7",
   "metadata": {},
   "outputs": [],
   "source": [
    "if not setup_instance_check_passed:\n",
    "    print(\"+++++++++++++++++++++++++++++++++++++++++++++++++++++++++++++++\")\n",
    "    print(\"[ERROR] YOU HAVE TO RUN ALL NOTEBOOKS IN THE SETUP FOLDER FIRST. You are missing Instance Check.\")\n",
    "    print(\"+++++++++++++++++++++++++++++++++++++++++++++++++++++++++++++++\")\n",
    "if not setup_dependencies_passed:\n",
    "    print(\"+++++++++++++++++++++++++++++++++++++++++++++++++++++++++++++++\")\n",
    "    print(\"[ERROR] YOU HAVE TO RUN ALL NOTEBOOKS IN THE SETUP FOLDER FIRST. You are missing Setup Dependencies.\")\n",
    "    print(\"+++++++++++++++++++++++++++++++++++++++++++++++++++++++++++++++\")\n",
    "if not setup_s3_bucket_passed:\n",
    "    print(\"+++++++++++++++++++++++++++++++++++++++++++++++++++++++++++++++\")\n",
    "    print(\"[ERROR] YOU HAVE TO RUN ALL NOTEBOOKS IN THE SETUP FOLDER FIRST. You are missing Setup S3 Bucket.\")\n",
    "    print(\"+++++++++++++++++++++++++++++++++++++++++++++++++++++++++++++++\")\n",
    "if not setup_iam_roles_passed:\n",
    "    print(\"+++++++++++++++++++++++++++++++++++++++++++++++++++++++++++++++\")\n",
    "    print(\"[ERROR] YOU HAVE TO RUN ALL NOTEBOOKS IN THE SETUP FOLDER FIRST. You are missing Setup IAM Roles.\")\n",
    "    print(\"+++++++++++++++++++++++++++++++++++++++++++++++++++++++++++++++\")"
   ]
  },
  {
   "cell_type": "code",
   "execution_count": 14,
   "id": "c0c1dbec-5942-44cf-a67f-c2c879b96232",
   "metadata": {},
   "outputs": [],
   "source": [
    "import boto3\n",
    "import sagemaker\n",
    "import pandas as pd\n",
    "\n",
    "sess = sagemaker.Session()\n",
    "bucket = sess.default_bucket()\n",
    "role = sagemaker.get_execution_role()\n",
    "region = boto3.Session().region_name\n",
    "account_id = boto3.client(\"sts\").get_caller_identity().get(\"Account\")\n",
    "\n",
    "sm = boto3.Session().client(service_name=\"sagemaker\", region_name=region)"
   ]
  },
  {
   "cell_type": "markdown",
   "id": "6a2ad4f8-51f8-4bce-b878-8fe6787a30f3",
   "metadata": {},
   "source": [
    "### Set S3 Source Location"
   ]
  },
  {
   "cell_type": "code",
   "execution_count": 15,
   "id": "03988de6-a9c3-4d37-93c2-300ea21b19e7",
   "metadata": {},
   "outputs": [],
   "source": [
    "s3_public_csv = \"s3://msads-508-sp25-team6\""
   ]
  },
  {
   "cell_type": "code",
   "execution_count": 16,
   "id": "96996281-941c-46f5-8076-b5ad5051cee9",
   "metadata": {},
   "outputs": [
    {
     "name": "stdout",
     "output_type": "stream",
     "text": [
      "Stored 's3_public_csv' (str)\n"
     ]
    }
   ],
   "source": [
    "%store s3_public_csv"
   ]
  },
  {
   "cell_type": "markdown",
   "id": "b5c06162-8349-4e13-9a40-7f5bca1fce4e",
   "metadata": {},
   "source": [
    "### Set S3 Destination Location"
   ]
  },
  {
   "cell_type": "code",
   "execution_count": 17,
   "id": "a820de48-5512-4837-bd1c-b16298cf088c",
   "metadata": {},
   "outputs": [
    {
     "name": "stdout",
     "output_type": "stream",
     "text": [
      "s3://sagemaker-us-east-1-367086635748/msads-508-sp25-team6\n"
     ]
    }
   ],
   "source": [
    "s3_private_csv = \"s3://{}/msads-508-sp25-team6\".format(bucket)\n",
    "print(s3_private_csv)"
   ]
  },
  {
   "cell_type": "code",
   "execution_count": 18,
   "id": "e1159c20-d8f6-4eb1-ae7b-a52140d6b012",
   "metadata": {},
   "outputs": [
    {
     "name": "stdout",
     "output_type": "stream",
     "text": [
      "Stored 's3_private_csv' (str)\n"
     ]
    }
   ],
   "source": [
    "%store s3_private_csv"
   ]
  },
  {
   "cell_type": "markdown",
   "id": "52f64d5f-6a32-4c1e-a81c-77da0576594e",
   "metadata": {},
   "source": [
    "### Copy Data From the Public S3 Bucket to the Private S3 Bucket in this Account"
   ]
  },
  {
   "cell_type": "code",
   "execution_count": 19,
   "id": "b143caa9-f02a-449c-afb9-d86eb91beed4",
   "metadata": {},
   "outputs": [
    {
     "name": "stdout",
     "output_type": "stream",
     "text": [
      "copy: s3://msads-508-sp25-team6/MSADS 508 Final Project.csv to s3://sagemaker-us-east-1-367086635748/msads-508-sp25-team6/MSADS 508 Final Project.csv\n"
     ]
    }
   ],
   "source": [
    "!aws s3 cp --recursive $s3_public_csv/ $s3_private_csv/ --exclude \"*\" --include \"MSADS 508 Final Project.csv\""
   ]
  },
  {
   "cell_type": "markdown",
   "id": "97096793-e39c-410b-9742-e461fc87e210",
   "metadata": {},
   "source": [
    "### List Files in the Private S3 Bucket in this Account"
   ]
  },
  {
   "cell_type": "code",
   "execution_count": 20,
   "id": "583e07f9-a044-4628-94e9-f6d467f6bb63",
   "metadata": {},
   "outputs": [
    {
     "name": "stdout",
     "output_type": "stream",
     "text": [
      "s3://sagemaker-us-east-1-367086635748/msads-508-sp25-team6\n"
     ]
    }
   ],
   "source": [
    "print(s3_private_csv)"
   ]
  },
  {
   "cell_type": "code",
   "execution_count": 21,
   "id": "40c749df-882f-46b0-88e2-e57680bd978a",
   "metadata": {},
   "outputs": [
    {
     "name": "stdout",
     "output_type": "stream",
     "text": [
      "2025-03-17 04:34:14 1138005184 MSADS 508 Final Project.csv\n"
     ]
    }
   ],
   "source": [
    "!aws s3 ls $s3_private_csv/"
   ]
  },
  {
   "cell_type": "code",
   "execution_count": 22,
   "id": "4a8f805d-debf-4c58-8739-9b6176fbc6a4",
   "metadata": {},
   "outputs": [
    {
     "data": {
      "text/html": [
       "<b>Review <a target=\"blank\" href=\"https://s3.console.aws.amazon.com/s3/buckets/sagemaker-us-east-1-367086635748/amazon-reviews-pds/?region=us-east-1&tab=overview\">S3 Bucket</a></b>"
      ],
      "text/plain": [
       "<IPython.core.display.HTML object>"
      ]
     },
     "metadata": {},
     "output_type": "display_data"
    }
   ],
   "source": [
    "from IPython.display import display, HTML\n",
    "\n",
    "display(\n",
    "    HTML(\n",
    "        '<b>Review <a target=\"blank\" href=\"https://s3.console.aws.amazon.com/s3/buckets/sagemaker-{}-{}/amazon-reviews-pds/?region={}&tab=overview\">S3 Bucket</a></b>'.format(\n",
    "            region, account_id, region\n",
    "        )\n",
    "    )\n",
    ")"
   ]
  },
  {
   "cell_type": "markdown",
   "id": "6f2d1895-b528-4277-a792-5e0f8fd68ae3",
   "metadata": {},
   "source": [
    "### Store Variables"
   ]
  },
  {
   "cell_type": "code",
   "execution_count": 23,
   "id": "33fa9e00-91f7-45bc-921a-ea91802e9586",
   "metadata": {},
   "outputs": [
    {
     "name": "stdout",
     "output_type": "stream",
     "text": [
      "Stored variables and their in-db values:\n",
      "ingest_create_athena_db_passed             -> True\n",
      "s3_cybersentinel_csv                       -> 's3://msads-508-sp25-team6/MSADS 508 Final Project\n",
      "s3_private_csv                             -> 's3://sagemaker-us-east-1-367086635748/msads-508-s\n",
      "s3_public_csv                              -> 's3://msads-508-sp25-team6'\n",
      "setup_dependencies_passed                  -> True\n",
      "setup_iam_roles_passed                     -> True\n",
      "setup_instance_check_passed                -> True\n",
      "setup_s3_bucket_passed                     -> True\n"
     ]
    }
   ],
   "source": [
    "%store"
   ]
  },
  {
   "cell_type": "code",
   "execution_count": null,
   "id": "f407a56f-0faa-451b-a094-e48aa60a77d3",
   "metadata": {},
   "outputs": [],
   "source": []
  }
 ],
 "metadata": {
  "kernelspec": {
   "display_name": "Python 3 (ipykernel)",
   "language": "python",
   "name": "python3"
  },
  "language_info": {
   "codemirror_mode": {
    "name": "ipython",
    "version": 3
   },
   "file_extension": ".py",
   "mimetype": "text/x-python",
   "name": "python",
   "nbconvert_exporter": "python",
   "pygments_lexer": "ipython3",
   "version": "3.11.11"
  }
 },
 "nbformat": 4,
 "nbformat_minor": 5
}
