{
 "cells": [
  {
   "cell_type": "markdown",
   "id": "7f7124e3-482c-438e-a6b5-7c2c3a809034",
   "metadata": {},
   "source": [
    "# MSADS 508 CyberSentinel Security Solutions\n",
    "## Data Preparation, Balancing, and Test/Train/Validation Splits"
   ]
  },
  {
   "cell_type": "code",
   "execution_count": 1,
   "id": "07bfede6-b38f-4b6b-87a2-02f6d9b9bc51",
   "metadata": {},
   "outputs": [
    {
     "name": "stderr",
     "output_type": "stream",
     "text": [
      "/opt/conda/lib/python3.11/site-packages/pydantic/_internal/_fields.py:192: UserWarning: Field name \"json\" in \"MonitoringDatasetFormat\" shadows an attribute in parent \"Base\"\n",
      "  warnings.warn(\n"
     ]
    },
    {
     "name": "stdout",
     "output_type": "stream",
     "text": [
      "sagemaker.config INFO - Not applying SDK defaults from location: /etc/xdg/sagemaker/config.yaml\n",
      "sagemaker.config INFO - Not applying SDK defaults from location: /home/sagemaker-user/.config/sagemaker/config.yaml\n"
     ]
    }
   ],
   "source": [
    "import boto3\n",
    "import sagemaker\n",
    "import pandas as pd\n",
    "import numpy as np\n",
    "\n",
    "from sklearn.model_selection import train_test_split\n",
    "\n",
    "sess = sagemaker.Session()\n",
    "bucket = sess.default_bucket()\n",
    "role = sagemaker.get_execution_role()\n",
    "region = boto3.Session().region_name"
   ]
  },
  {
   "cell_type": "code",
   "execution_count": 2,
   "id": "ad7b7781-c760-4569-9fce-1b761682dc60",
   "metadata": {},
   "outputs": [
    {
     "name": "stdout",
     "output_type": "stream",
     "text": [
      "download: s3://msads-508-sp25-team6/MSADS 508 Final Project.csv to ./MSADS 508 Final Project.csv\n"
     ]
    }
   ],
   "source": [
    "!aws s3 cp s3://msads-508-sp25-team6/MSADS\\ 508\\ Final\\ Project.csv ."
   ]
  },
  {
   "cell_type": "code",
   "execution_count": 3,
   "id": "8b2e471b-7f1a-4813-9e12-20070142b4a6",
   "metadata": {},
   "outputs": [
    {
     "name": "stdout",
     "output_type": "stream",
     "text": [
      "                           PRE Data/\n",
      "2025-03-15 07:04:28 1138005184 MSADS 508 Final Project.csv\n"
     ]
    }
   ],
   "source": [
    "!aws s3 ls s3://msads-508-sp25-team6/"
   ]
  },
  {
   "cell_type": "code",
   "execution_count": 4,
   "id": "acf0b22e-5c48-49e3-96df-061ebeda0500",
   "metadata": {},
   "outputs": [
    {
     "name": "stderr",
     "output_type": "stream",
     "text": [
      "/tmp/ipykernel_13323/3096427248.py:1: DtypeWarning: Columns (1,3) have mixed types. Specify dtype option on import or set low_memory=False.\n",
      "  df = pd.read_csv(\"MSADS 508 Final Project.csv\")\n"
     ]
    }
   ],
   "source": [
    "df = pd.read_csv(\"MSADS 508 Final Project.csv\")"
   ]
  },
  {
   "cell_type": "code",
   "execution_count": 5,
   "id": "9ac07dcf-dde2-4339-94f8-4f2f4e986967",
   "metadata": {},
   "outputs": [
    {
     "data": {
      "text/html": [
       "<div>\n",
       "<style scoped>\n",
       "    .dataframe tbody tr th:only-of-type {\n",
       "        vertical-align: middle;\n",
       "    }\n",
       "\n",
       "    .dataframe tbody tr th {\n",
       "        vertical-align: top;\n",
       "    }\n",
       "\n",
       "    .dataframe thead th {\n",
       "        text-align: right;\n",
       "    }\n",
       "</style>\n",
       "<table border=\"1\" class=\"dataframe\">\n",
       "  <thead>\n",
       "    <tr style=\"text-align: right;\">\n",
       "      <th></th>\n",
       "      <th>Source IP</th>\n",
       "      <th>Source Port</th>\n",
       "      <th>Destination IP</th>\n",
       "      <th>Destination Port</th>\n",
       "      <th>Protocol</th>\n",
       "      <th>Flow Duration</th>\n",
       "      <th>Total Fwd Packets</th>\n",
       "      <th>Total Backward Packets</th>\n",
       "      <th>Fwd Packet Length Mean</th>\n",
       "      <th>Bwd Packet Length Mean</th>\n",
       "      <th>Label</th>\n",
       "    </tr>\n",
       "  </thead>\n",
       "  <tbody>\n",
       "    <tr>\n",
       "      <th>0</th>\n",
       "      <td>192.168.4.118</td>\n",
       "      <td>4504</td>\n",
       "      <td>203.73.24.75</td>\n",
       "      <td>80</td>\n",
       "      <td>tcp</td>\n",
       "      <td>3974862.0</td>\n",
       "      <td>29</td>\n",
       "      <td>44</td>\n",
       "      <td>2.965517</td>\n",
       "      <td>1359.340909</td>\n",
       "      <td>ddos</td>\n",
       "    </tr>\n",
       "    <tr>\n",
       "      <th>1</th>\n",
       "      <td>192.168.4.118</td>\n",
       "      <td>4504</td>\n",
       "      <td>203.73.24.75</td>\n",
       "      <td>80</td>\n",
       "      <td>tcp</td>\n",
       "      <td>63.0</td>\n",
       "      <td>1</td>\n",
       "      <td>1</td>\n",
       "      <td>0.000000</td>\n",
       "      <td>0.000000</td>\n",
       "      <td>ddos</td>\n",
       "    </tr>\n",
       "    <tr>\n",
       "      <th>2</th>\n",
       "      <td>192.168.4.118</td>\n",
       "      <td>4505</td>\n",
       "      <td>203.73.24.75</td>\n",
       "      <td>80</td>\n",
       "      <td>tcp</td>\n",
       "      <td>476078.0</td>\n",
       "      <td>2</td>\n",
       "      <td>6</td>\n",
       "      <td>43.000000</td>\n",
       "      <td>506.166667</td>\n",
       "      <td>ddos</td>\n",
       "    </tr>\n",
       "    <tr>\n",
       "      <th>3</th>\n",
       "      <td>192.168.4.118</td>\n",
       "      <td>4505</td>\n",
       "      <td>203.73.24.75</td>\n",
       "      <td>80</td>\n",
       "      <td>tcp</td>\n",
       "      <td>151.0</td>\n",
       "      <td>2</td>\n",
       "      <td>1</td>\n",
       "      <td>0.000000</td>\n",
       "      <td>0.000000</td>\n",
       "      <td>ddos</td>\n",
       "    </tr>\n",
       "    <tr>\n",
       "      <th>4</th>\n",
       "      <td>192.168.4.118</td>\n",
       "      <td>4506</td>\n",
       "      <td>203.73.24.75</td>\n",
       "      <td>80</td>\n",
       "      <td>tcp</td>\n",
       "      <td>472507.0</td>\n",
       "      <td>2</td>\n",
       "      <td>5</td>\n",
       "      <td>36.500000</td>\n",
       "      <td>210.000000</td>\n",
       "      <td>ddos</td>\n",
       "    </tr>\n",
       "  </tbody>\n",
       "</table>\n",
       "</div>"
      ],
      "text/plain": [
       "       Source IP Source Port Destination IP Destination Port Protocol  \\\n",
       "0  192.168.4.118        4504   203.73.24.75               80      tcp   \n",
       "1  192.168.4.118        4504   203.73.24.75               80      tcp   \n",
       "2  192.168.4.118        4505   203.73.24.75               80      tcp   \n",
       "3  192.168.4.118        4505   203.73.24.75               80      tcp   \n",
       "4  192.168.4.118        4506   203.73.24.75               80      tcp   \n",
       "\n",
       "   Flow Duration  Total Fwd Packets  Total Backward Packets  \\\n",
       "0      3974862.0                 29                      44   \n",
       "1           63.0                  1                       1   \n",
       "2       476078.0                  2                       6   \n",
       "3          151.0                  2                       1   \n",
       "4       472507.0                  2                       5   \n",
       "\n",
       "   Fwd Packet Length Mean  Bwd Packet Length Mean Label  \n",
       "0                2.965517             1359.340909  ddos  \n",
       "1                0.000000                0.000000  ddos  \n",
       "2               43.000000              506.166667  ddos  \n",
       "3                0.000000                0.000000  ddos  \n",
       "4               36.500000              210.000000  ddos  "
      ]
     },
     "execution_count": 5,
     "metadata": {},
     "output_type": "execute_result"
    }
   ],
   "source": [
    "df.head()"
   ]
  },
  {
   "cell_type": "markdown",
   "id": "2dcc71fb-6d54-46b5-a2be-411c6e4cc9d0",
   "metadata": {},
   "source": [
    "### Change and validate the data types"
   ]
  },
  {
   "cell_type": "code",
   "execution_count": 6,
   "id": "59c821a0-5f88-437f-8a91-a2bb2c3120c1",
   "metadata": {},
   "outputs": [
    {
     "name": "stdout",
     "output_type": "stream",
     "text": [
      "Source IP                  object\n",
      "Source Port                object\n",
      "Destination IP             object\n",
      "Destination Port           object\n",
      "Protocol                   object\n",
      "Flow Duration             float64\n",
      "Total Fwd Packets           int64\n",
      "Total Backward Packets      int64\n",
      "Fwd Packet Length Mean    float64\n",
      "Bwd Packet Length Mean    float64\n",
      "Label                      object\n",
      "dtype: object\n"
     ]
    }
   ],
   "source": [
    "print(df.dtypes)"
   ]
  },
  {
   "cell_type": "code",
   "execution_count": 7,
   "id": "dbaf88b9-9613-4681-8d58-449a3f8206c7",
   "metadata": {},
   "outputs": [],
   "source": [
    "def convert_to_int(value):\n",
    "    try:\n",
    "        if isinstance(value, str) and value.startswith('0x'):\n",
    "            return int(value, 16)\n",
    "        else:\n",
    "            return int(value)\n",
    "    except ValueError:\n",
    "        return None"
   ]
  },
  {
   "cell_type": "code",
   "execution_count": 8,
   "id": "f74f973f-f7c9-418c-a0d2-4e2a8b625d67",
   "metadata": {},
   "outputs": [],
   "source": [
    "df['Source IP'] = df['Source IP'].astype(object)\n",
    "\n",
    "# Some Source Ports have been identified as hexidecimal. Function convert_to_int fixes this issue, but a few NaN values are identified. These values are resolved with fillna(0) as 0 represents no port value\n",
    "# The issue record indices are 13102903 and 13163723\n",
    "df['Source Port'] = df['Source Port'].apply(convert_to_int).fillna(0).astype(int)\n",
    "\n",
    "df['Destination IP'] = df['Destination IP'].astype(object)\n",
    "\n",
    "# Destination Port follows the same rules as Source Port\n",
    "df['Destination Port'] = df['Destination Port'].apply(convert_to_int).fillna(0).astype(int)\n",
    "\n",
    "# Label encode the categorical variables to numbers\n",
    "df['Protocol'] = pd.factorize(df['Protocol'])[0]\n",
    "\n",
    "df['Flow Duration'] = df['Flow Duration'].astype(float)\n",
    "\n",
    "df['Total Fwd Packets'] = df['Total Fwd Packets'].astype(int)\n",
    "\n",
    "df['Total Backward Packets'] = df['Total Backward Packets'].astype(int)\n",
    "\n",
    "df['Fwd Packet Length Mean'] = df['Fwd Packet Length Mean'].astype(float)\n",
    "\n",
    "df['Bwd Packet Length Mean'] = df['Bwd Packet Length Mean'].astype(float)\n",
    "\n",
    "df['Label'] = df['Label'].astype(object)"
   ]
  },
  {
   "cell_type": "code",
   "execution_count": 9,
   "id": "5079dc3d-0f17-4fb6-8e84-2f2043ac956c",
   "metadata": {},
   "outputs": [
    {
     "name": "stdout",
     "output_type": "stream",
     "text": [
      "Source IP                  object\n",
      "Source Port                 int64\n",
      "Destination IP             object\n",
      "Destination Port            int64\n",
      "Protocol                    int64\n",
      "Flow Duration             float64\n",
      "Total Fwd Packets           int64\n",
      "Total Backward Packets      int64\n",
      "Fwd Packet Length Mean    float64\n",
      "Bwd Packet Length Mean    float64\n",
      "Label                      object\n",
      "dtype: object\n"
     ]
    }
   ],
   "source": [
    "print(df.dtypes)"
   ]
  },
  {
   "cell_type": "markdown",
   "id": "51b7cbde-9eed-459a-81c2-25a8aa1788dd",
   "metadata": {},
   "source": [
    "### Split Source IP and Destination IP into their Octet breakdowns"
   ]
  },
  {
   "cell_type": "code",
   "execution_count": 10,
   "id": "2005ce6a-21e0-4ac5-a815-79cc6999a3b0",
   "metadata": {},
   "outputs": [],
   "source": [
    "df[['Source Octet 1', 'Source Octet 2', 'Source Octet 3', 'Source Octet 4']] = df['Source IP'].str.split('.', expand = True)"
   ]
  },
  {
   "cell_type": "code",
   "execution_count": 11,
   "id": "1df4a622-e015-4e84-abad-a492da09e4e0",
   "metadata": {},
   "outputs": [],
   "source": [
    "df[['Source Octet 1', 'Source Octet 2', 'Source Octet 3', 'Source Octet 4']] = df[['Source Octet 1', 'Source Octet 2', 'Source Octet 3', 'Source Octet 4']].astype(int)"
   ]
  },
  {
   "cell_type": "code",
   "execution_count": 12,
   "id": "811f52fb-04d0-4cc1-a65b-13445605326d",
   "metadata": {},
   "outputs": [
    {
     "data": {
      "text/html": [
       "<div>\n",
       "<style scoped>\n",
       "    .dataframe tbody tr th:only-of-type {\n",
       "        vertical-align: middle;\n",
       "    }\n",
       "\n",
       "    .dataframe tbody tr th {\n",
       "        vertical-align: top;\n",
       "    }\n",
       "\n",
       "    .dataframe thead th {\n",
       "        text-align: right;\n",
       "    }\n",
       "</style>\n",
       "<table border=\"1\" class=\"dataframe\">\n",
       "  <thead>\n",
       "    <tr style=\"text-align: right;\">\n",
       "      <th></th>\n",
       "      <th>Source IP</th>\n",
       "      <th>Source Port</th>\n",
       "      <th>Destination IP</th>\n",
       "      <th>Destination Port</th>\n",
       "      <th>Protocol</th>\n",
       "      <th>Flow Duration</th>\n",
       "      <th>Total Fwd Packets</th>\n",
       "      <th>Total Backward Packets</th>\n",
       "      <th>Fwd Packet Length Mean</th>\n",
       "      <th>Bwd Packet Length Mean</th>\n",
       "      <th>Label</th>\n",
       "      <th>Source Octet 1</th>\n",
       "      <th>Source Octet 2</th>\n",
       "      <th>Source Octet 3</th>\n",
       "      <th>Source Octet 4</th>\n",
       "    </tr>\n",
       "  </thead>\n",
       "  <tbody>\n",
       "    <tr>\n",
       "      <th>0</th>\n",
       "      <td>192.168.4.118</td>\n",
       "      <td>4504</td>\n",
       "      <td>203.73.24.75</td>\n",
       "      <td>80</td>\n",
       "      <td>0</td>\n",
       "      <td>3974862.0</td>\n",
       "      <td>29</td>\n",
       "      <td>44</td>\n",
       "      <td>2.965517</td>\n",
       "      <td>1359.340909</td>\n",
       "      <td>ddos</td>\n",
       "      <td>192</td>\n",
       "      <td>168</td>\n",
       "      <td>4</td>\n",
       "      <td>118</td>\n",
       "    </tr>\n",
       "    <tr>\n",
       "      <th>1</th>\n",
       "      <td>192.168.4.118</td>\n",
       "      <td>4504</td>\n",
       "      <td>203.73.24.75</td>\n",
       "      <td>80</td>\n",
       "      <td>0</td>\n",
       "      <td>63.0</td>\n",
       "      <td>1</td>\n",
       "      <td>1</td>\n",
       "      <td>0.000000</td>\n",
       "      <td>0.000000</td>\n",
       "      <td>ddos</td>\n",
       "      <td>192</td>\n",
       "      <td>168</td>\n",
       "      <td>4</td>\n",
       "      <td>118</td>\n",
       "    </tr>\n",
       "    <tr>\n",
       "      <th>2</th>\n",
       "      <td>192.168.4.118</td>\n",
       "      <td>4505</td>\n",
       "      <td>203.73.24.75</td>\n",
       "      <td>80</td>\n",
       "      <td>0</td>\n",
       "      <td>476078.0</td>\n",
       "      <td>2</td>\n",
       "      <td>6</td>\n",
       "      <td>43.000000</td>\n",
       "      <td>506.166667</td>\n",
       "      <td>ddos</td>\n",
       "      <td>192</td>\n",
       "      <td>168</td>\n",
       "      <td>4</td>\n",
       "      <td>118</td>\n",
       "    </tr>\n",
       "    <tr>\n",
       "      <th>3</th>\n",
       "      <td>192.168.4.118</td>\n",
       "      <td>4505</td>\n",
       "      <td>203.73.24.75</td>\n",
       "      <td>80</td>\n",
       "      <td>0</td>\n",
       "      <td>151.0</td>\n",
       "      <td>2</td>\n",
       "      <td>1</td>\n",
       "      <td>0.000000</td>\n",
       "      <td>0.000000</td>\n",
       "      <td>ddos</td>\n",
       "      <td>192</td>\n",
       "      <td>168</td>\n",
       "      <td>4</td>\n",
       "      <td>118</td>\n",
       "    </tr>\n",
       "    <tr>\n",
       "      <th>4</th>\n",
       "      <td>192.168.4.118</td>\n",
       "      <td>4506</td>\n",
       "      <td>203.73.24.75</td>\n",
       "      <td>80</td>\n",
       "      <td>0</td>\n",
       "      <td>472507.0</td>\n",
       "      <td>2</td>\n",
       "      <td>5</td>\n",
       "      <td>36.500000</td>\n",
       "      <td>210.000000</td>\n",
       "      <td>ddos</td>\n",
       "      <td>192</td>\n",
       "      <td>168</td>\n",
       "      <td>4</td>\n",
       "      <td>118</td>\n",
       "    </tr>\n",
       "  </tbody>\n",
       "</table>\n",
       "</div>"
      ],
      "text/plain": [
       "       Source IP  Source Port Destination IP  Destination Port  Protocol  \\\n",
       "0  192.168.4.118         4504   203.73.24.75                80         0   \n",
       "1  192.168.4.118         4504   203.73.24.75                80         0   \n",
       "2  192.168.4.118         4505   203.73.24.75                80         0   \n",
       "3  192.168.4.118         4505   203.73.24.75                80         0   \n",
       "4  192.168.4.118         4506   203.73.24.75                80         0   \n",
       "\n",
       "   Flow Duration  Total Fwd Packets  Total Backward Packets  \\\n",
       "0      3974862.0                 29                      44   \n",
       "1           63.0                  1                       1   \n",
       "2       476078.0                  2                       6   \n",
       "3          151.0                  2                       1   \n",
       "4       472507.0                  2                       5   \n",
       "\n",
       "   Fwd Packet Length Mean  Bwd Packet Length Mean Label  Source Octet 1  \\\n",
       "0                2.965517             1359.340909  ddos             192   \n",
       "1                0.000000                0.000000  ddos             192   \n",
       "2               43.000000              506.166667  ddos             192   \n",
       "3                0.000000                0.000000  ddos             192   \n",
       "4               36.500000              210.000000  ddos             192   \n",
       "\n",
       "   Source Octet 2  Source Octet 3  Source Octet 4  \n",
       "0             168               4             118  \n",
       "1             168               4             118  \n",
       "2             168               4             118  \n",
       "3             168               4             118  \n",
       "4             168               4             118  "
      ]
     },
     "execution_count": 12,
     "metadata": {},
     "output_type": "execute_result"
    }
   ],
   "source": [
    "df.head()"
   ]
  },
  {
   "cell_type": "code",
   "execution_count": null,
   "id": "8bda5480-e34f-470e-a0f6-aae048dfe681",
   "metadata": {},
   "outputs": [],
   "source": [
    "df[['Destination Octet 1', 'Destination Octet 2', 'Destination Octet 3', 'Destination Octet 4']] = df['Destination IP'].str.split('.', expand = True)"
   ]
  },
  {
   "cell_type": "code",
   "execution_count": null,
   "id": "5a1b1c16-1cf5-4788-9835-bcd119540063",
   "metadata": {},
   "outputs": [],
   "source": [
    "df[['Source Octet 1', 'Source Octet 2', 'Source Octet 3', 'Source Octet 4']] = df[['Source Octet 1', 'Source Octet 2', 'Source Octet 3', 'Source Octet 4']].astype(int)"
   ]
  },
  {
   "cell_type": "code",
   "execution_count": null,
   "id": "96671b32-92be-4f82-8b22-2e8a93331276",
   "metadata": {},
   "outputs": [],
   "source": [
    "df.head()"
   ]
  },
  {
   "cell_type": "markdown",
   "id": "dc76c39c-1783-48c4-9c54-b370295e05fc",
   "metadata": {},
   "source": [
    "### Z-Score Standardization of Flow Duration, Total Fwd Packets, Total Backward Packets, Fwd Packet Length Mean, and Bwd Packet Length Mean"
   ]
  },
  {
   "cell_type": "code",
   "execution_count": null,
   "id": "db092b16-9831-49c6-8327-389ef5ea169f",
   "metadata": {},
   "outputs": [],
   "source": [
    "df['Flow Duration'] = (df['Flow Duration'] - df['Flow Duration'].mean()) / df['Flow Duration'].std()\n",
    "df['Total Fwd Packets'] = (df['Total Fwd Packets'] - df['Total Fwd Packets'].mean()) / df['Total Fwd Packets'].std()\n",
    "df['Total Backward Packets'] = (df['Total Backward Packets'] - df['Total Backward Packets'].mean()) / df['Total Backward Packets'].std()\n",
    "df['Fwd Packet Length Mean'] = (df['Fwd Packet Length Mean'] - df['Fwd Packet Length Mean'].mean()) / df['Fwd Packet Length Mean'].std()\n",
    "df['Bwd Packet Length Mean'] = (df['Bwd Packet Length Mean'] - df['Bwd Packet Length Mean'].mean()) / df['Bwd Packet Length Mean'].std()"
   ]
  },
  {
   "cell_type": "code",
   "execution_count": null,
   "id": "71591827-e0d2-42c2-99f8-8d3b917823ea",
   "metadata": {},
   "outputs": [],
   "source": [
    "df.head()"
   ]
  },
  {
   "cell_type": "code",
   "execution_count": null,
   "id": "4f837042-af19-4c8d-9a46-c9bcc4037f72",
   "metadata": {},
   "outputs": [],
   "source": [
    "train_ratio = 0.8\n",
    "val_ratio = 0.1\n",
    "test_ratio = 0.1\n",
    "\n",
    "# randomized_df = df.sample(frac=1, random_state = 35)"
   ]
  },
  {
   "cell_type": "code",
   "execution_count": null,
   "id": "8db96cb5-6f6b-414e-a389-dcfe0a1c946f",
   "metadata": {},
   "outputs": [],
   "source": [
    "train_size = int(len(df) * train_ratio)\n",
    "validation_size = int(len(df) * val_ratio)"
   ]
  },
  {
   "cell_type": "code",
   "execution_count": null,
   "id": "a6b9440e-9802-4af6-ac3c-cc067ed9b56b",
   "metadata": {},
   "outputs": [],
   "source": [
    "train_df = df[:train_size]"
   ]
  },
  {
   "cell_type": "code",
   "execution_count": null,
   "id": "47c55e75-28ec-4fb6-bef4-36df72e58322",
   "metadata": {},
   "outputs": [],
   "source": [
    "validation_df = df[train_size:train_size + validation_size]"
   ]
  },
  {
   "cell_type": "code",
   "execution_count": null,
   "id": "15d0e7de-b369-477b-9d05-7faf6a333cc7",
   "metadata": {},
   "outputs": [],
   "source": [
    "test_df = df[train_size + validation_size:]"
   ]
  },
  {
   "cell_type": "code",
   "execution_count": null,
   "id": "7b1dae21-e869-42f0-82e0-cfc28b22bdad",
   "metadata": {},
   "outputs": [],
   "source": [
    "print(len(train_df))"
   ]
  },
  {
   "cell_type": "code",
   "execution_count": null,
   "id": "ffd8455a-8f52-42c1-a68f-5d71b474cea9",
   "metadata": {},
   "outputs": [],
   "source": [
    "print(len(validation_df))"
   ]
  },
  {
   "cell_type": "code",
   "execution_count": null,
   "id": "e2ab377e-d546-4dac-97b2-298ef68fab3f",
   "metadata": {},
   "outputs": [],
   "source": [
    "print(len(test_df))"
   ]
  },
  {
   "cell_type": "code",
   "execution_count": null,
   "id": "cdc35f5c-286a-4853-99fb-cc09c31d8d33",
   "metadata": {},
   "outputs": [],
   "source": [
    "print(len(df))"
   ]
  },
  {
   "cell_type": "code",
   "execution_count": null,
   "id": "732d1dd0-cf24-4f94-8f22-d1548bbfa0a1",
   "metadata": {},
   "outputs": [],
   "source": [
    "print(train_df['Label'].value_counts())"
   ]
  },
  {
   "cell_type": "code",
   "execution_count": null,
   "id": "1677173f-8ee5-4cac-aa08-dde9631e74d6",
   "metadata": {},
   "outputs": [],
   "source": [
    "!pip install imbalanced-learn"
   ]
  },
  {
   "cell_type": "code",
   "execution_count": null,
   "id": "835747e1-a396-4cda-95c4-3cacc64a7fdf",
   "metadata": {},
   "outputs": [],
   "source": [
    "from imblearn.over_sampling import SMOTE"
   ]
  },
  {
   "cell_type": "code",
   "execution_count": null,
   "id": "7a43b243-b398-48e2-ac82-5523b03afc56",
   "metadata": {},
   "outputs": [],
   "source": [
    "x_train = train_df[['Source IP', 'Source Port', 'Destination IP', 'Destination Port', 'Protocol', 'Flow Duration', 'Total Fwd Packets', 'Total Backward Packets', 'Fwd Packet Length Mean', 'Bwd Packet Length Mean']]"
   ]
  },
  {
   "cell_type": "code",
   "execution_count": null,
   "id": "adf83f0c-5436-4a06-881c-6d27327e173b",
   "metadata": {},
   "outputs": [],
   "source": [
    "y_train = train_df['Label']"
   ]
  },
  {
   "cell_type": "code",
   "execution_count": null,
   "id": "d0c7c478-109b-4ebb-9449-8951ef5bb0e3",
   "metadata": {},
   "outputs": [],
   "source": [
    "smote = SMOTE(random_state = 35)"
   ]
  },
  {
   "cell_type": "code",
   "execution_count": null,
   "id": "08611172-a56a-4728-a5d6-3792b9a1dd44",
   "metadata": {},
   "outputs": [],
   "source": [
    "batch_size = 100000\n",
    "\n",
    "x_batches = np.array_split(x_train, len(x_train) // batch_size)\n",
    "y_batches = np.array_split(y_train, len(y_train) // batch_size)"
   ]
  },
  {
   "cell_type": "code",
   "execution_count": null,
   "id": "b2c23c89-d057-42bc-8464-e572168fcb5b",
   "metadata": {},
   "outputs": [],
   "source": [
    "x_resampled_list = []\n",
    "y_resampled_list = []\n",
    "\n",
    "for x_batch, y_batch in zip(x_batches, y_batches):\n",
    "    x_res, y_res = smote.fit_resample(x_batch, y_batch)\n",
    "    x_resampled_list.append(x_res)\n",
    "    y_resampled_list.append(y_res)"
   ]
  },
  {
   "cell_type": "code",
   "execution_count": null,
   "id": "43f6c681-4233-4d62-a9c9-dd9cec680517",
   "metadata": {},
   "outputs": [],
   "source": [
    "x_train_resampled = np.vstack(x_resampled_list)\n",
    "y_train_resampled = np.hstack(y_resampled_list)"
   ]
  },
  {
   "cell_type": "code",
   "execution_count": null,
   "id": "81cea64c-362c-402e-b2d6-335607ca4b8f",
   "metadata": {},
   "outputs": [],
   "source": [
    "x_train_resampled, y_train_resampled = smote.fit_resample(x_train, y_train)"
   ]
  },
  {
   "cell_type": "code",
   "execution_count": null,
   "id": "d7732b7f-7a8e-46b5-b479-50c9ce8bc4c7",
   "metadata": {},
   "outputs": [],
   "source": [
    "train_balanced = pd.DataFrame(x_train_resampled, columns = x_train.columns)\n",
    "train_balanced['Label'] = y_train_resampled\n",
    "\n",
    "print(train_balanced['Label'].value_counts())"
   ]
  },
  {
   "cell_type": "code",
   "execution_count": null,
   "id": "040f16a3-f65a-4f21-869a-930991a69a29",
   "metadata": {},
   "outputs": [],
   "source": []
  },
  {
   "cell_type": "code",
   "execution_count": null,
   "id": "0eeefbad-e6c4-498e-a9c4-a8e72b3d9569",
   "metadata": {},
   "outputs": [],
   "source": []
  }
 ],
 "metadata": {
  "kernelspec": {
   "display_name": "Python 3 (ipykernel)",
   "language": "python",
   "name": "python3"
  },
  "language_info": {
   "codemirror_mode": {
    "name": "ipython",
    "version": 3
   },
   "file_extension": ".py",
   "mimetype": "text/x-python",
   "name": "python",
   "nbconvert_exporter": "python",
   "pygments_lexer": "ipython3",
   "version": "3.11.11"
  }
 },
 "nbformat": 4,
 "nbformat_minor": 5
}
