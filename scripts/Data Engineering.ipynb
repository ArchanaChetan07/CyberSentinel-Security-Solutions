{
 "cells": [
  {
   "cell_type": "code",
   "execution_count": 3,
   "id": "9e0cab2e-3224-4401-8326-fc36d1b7ae44",
   "metadata": {},
   "outputs": [],
   "source": [
    "import boto3\n",
    "import sagemaker\n",
    "import pandas as pd\n",
    "\n",
    "sess = sagemaker.Session()\n",
    "bucket = sess.default_bucket()\n",
    "role = sagemaker.get_execution_role()\n",
    "region = boto3.Session().region_name"
   ]
  },
  {
   "cell_type": "code",
   "execution_count": 4,
   "id": "646deca7-31a7-4d7e-8c98-fbef783e7ff8",
   "metadata": {},
   "outputs": [
    {
     "name": "stdout",
     "output_type": "stream",
     "text": [
      "fatal error: An error occurred (404) when calling the HeadObject operation: Key \"Processed/MSADS 508 Final Project.csv\" does not exist\n"
     ]
    }
   ],
   "source": [
    "!aws s3 cp s3://msads-508-sp25-team6/Processed/MSADS\\ 508\\ Final\\ Project.csv .\n"
   ]
  },
  {
   "cell_type": "code",
   "execution_count": 5,
   "id": "8a8bc1f5-045c-4fca-b147-57f0e478bd1f",
   "metadata": {},
   "outputs": [],
   "source": [
    "!aws s3 ls s3://msads-508-sp25-team6/Processed/\n"
   ]
  },
  {
   "cell_type": "code",
   "execution_count": 6,
   "id": "b4de8df9-9ec1-45e4-bf84-00b49ad17368",
   "metadata": {},
   "outputs": [
    {
     "name": "stderr",
     "output_type": "stream",
     "text": [
      "/tmp/ipykernel_15145/935296992.py:1: DtypeWarning: Columns (1,3) have mixed types. Specify dtype option on import or set low_memory=False.\n",
      "  df = pd.read_csv(\"MSADS 508 Final Project.csv\")\n"
     ]
    }
   ],
   "source": [
    "df = pd.read_csv(\"MSADS 508 Final Project.csv\")\n"
   ]
  },
  {
   "cell_type": "code",
   "execution_count": 7,
   "id": "5a8585a2-b6b4-4199-9dc3-fb044b8e1947",
   "metadata": {},
   "outputs": [
    {
     "data": {
      "text/html": [
       "<div>\n",
       "<style scoped>\n",
       "    .dataframe tbody tr th:only-of-type {\n",
       "        vertical-align: middle;\n",
       "    }\n",
       "\n",
       "    .dataframe tbody tr th {\n",
       "        vertical-align: top;\n",
       "    }\n",
       "\n",
       "    .dataframe thead th {\n",
       "        text-align: right;\n",
       "    }\n",
       "</style>\n",
       "<table border=\"1\" class=\"dataframe\">\n",
       "  <thead>\n",
       "    <tr style=\"text-align: right;\">\n",
       "      <th></th>\n",
       "      <th>Source IP</th>\n",
       "      <th>Source Port</th>\n",
       "      <th>Destination IP</th>\n",
       "      <th>Destination Port</th>\n",
       "      <th>Protocol</th>\n",
       "      <th>Flow Duration</th>\n",
       "      <th>Total Fwd Packets</th>\n",
       "      <th>Total Backward Packets</th>\n",
       "      <th>Fwd Packet Length Mean</th>\n",
       "      <th>Bwd Packet Length Mean</th>\n",
       "      <th>Label</th>\n",
       "    </tr>\n",
       "  </thead>\n",
       "  <tbody>\n",
       "    <tr>\n",
       "      <th>0</th>\n",
       "      <td>192.168.4.118</td>\n",
       "      <td>4504</td>\n",
       "      <td>203.73.24.75</td>\n",
       "      <td>80</td>\n",
       "      <td>tcp</td>\n",
       "      <td>3974862.0</td>\n",
       "      <td>29</td>\n",
       "      <td>44</td>\n",
       "      <td>2.965517</td>\n",
       "      <td>1359.340909</td>\n",
       "      <td>ddos</td>\n",
       "    </tr>\n",
       "    <tr>\n",
       "      <th>1</th>\n",
       "      <td>192.168.4.118</td>\n",
       "      <td>4504</td>\n",
       "      <td>203.73.24.75</td>\n",
       "      <td>80</td>\n",
       "      <td>tcp</td>\n",
       "      <td>63.0</td>\n",
       "      <td>1</td>\n",
       "      <td>1</td>\n",
       "      <td>0.000000</td>\n",
       "      <td>0.000000</td>\n",
       "      <td>ddos</td>\n",
       "    </tr>\n",
       "    <tr>\n",
       "      <th>2</th>\n",
       "      <td>192.168.4.118</td>\n",
       "      <td>4505</td>\n",
       "      <td>203.73.24.75</td>\n",
       "      <td>80</td>\n",
       "      <td>tcp</td>\n",
       "      <td>476078.0</td>\n",
       "      <td>2</td>\n",
       "      <td>6</td>\n",
       "      <td>43.000000</td>\n",
       "      <td>506.166667</td>\n",
       "      <td>ddos</td>\n",
       "    </tr>\n",
       "    <tr>\n",
       "      <th>3</th>\n",
       "      <td>192.168.4.118</td>\n",
       "      <td>4505</td>\n",
       "      <td>203.73.24.75</td>\n",
       "      <td>80</td>\n",
       "      <td>tcp</td>\n",
       "      <td>151.0</td>\n",
       "      <td>2</td>\n",
       "      <td>1</td>\n",
       "      <td>0.000000</td>\n",
       "      <td>0.000000</td>\n",
       "      <td>ddos</td>\n",
       "    </tr>\n",
       "    <tr>\n",
       "      <th>4</th>\n",
       "      <td>192.168.4.118</td>\n",
       "      <td>4506</td>\n",
       "      <td>203.73.24.75</td>\n",
       "      <td>80</td>\n",
       "      <td>tcp</td>\n",
       "      <td>472507.0</td>\n",
       "      <td>2</td>\n",
       "      <td>5</td>\n",
       "      <td>36.500000</td>\n",
       "      <td>210.000000</td>\n",
       "      <td>ddos</td>\n",
       "    </tr>\n",
       "  </tbody>\n",
       "</table>\n",
       "</div>"
      ],
      "text/plain": [
       "       Source IP Source Port Destination IP Destination Port Protocol  \\\n",
       "0  192.168.4.118        4504   203.73.24.75               80      tcp   \n",
       "1  192.168.4.118        4504   203.73.24.75               80      tcp   \n",
       "2  192.168.4.118        4505   203.73.24.75               80      tcp   \n",
       "3  192.168.4.118        4505   203.73.24.75               80      tcp   \n",
       "4  192.168.4.118        4506   203.73.24.75               80      tcp   \n",
       "\n",
       "   Flow Duration  Total Fwd Packets  Total Backward Packets  \\\n",
       "0      3974862.0                 29                      44   \n",
       "1           63.0                  1                       1   \n",
       "2       476078.0                  2                       6   \n",
       "3          151.0                  2                       1   \n",
       "4       472507.0                  2                       5   \n",
       "\n",
       "   Fwd Packet Length Mean  Bwd Packet Length Mean Label  \n",
       "0                2.965517             1359.340909  ddos  \n",
       "1                0.000000                0.000000  ddos  \n",
       "2               43.000000              506.166667  ddos  \n",
       "3                0.000000                0.000000  ddos  \n",
       "4               36.500000              210.000000  ddos  "
      ]
     },
     "execution_count": 7,
     "metadata": {},
     "output_type": "execute_result"
    }
   ],
   "source": [
    "df.head()\n"
   ]
  },
  {
   "cell_type": "code",
   "execution_count": 8,
   "id": "16bd5632-8c69-40e1-bb2a-472289e38952",
   "metadata": {},
   "outputs": [
    {
     "data": {
      "text/plain": [
       "(Source IP                 0\n",
       " Source Port               0\n",
       " Destination IP            0\n",
       " Destination Port          0\n",
       " Protocol                  0\n",
       " Flow Duration             0\n",
       " Total Fwd Packets         0\n",
       " Total Backward Packets    0\n",
       " Fwd Packet Length Mean    0\n",
       " Bwd Packet Length Mean    0\n",
       " Label                     0\n",
       " dtype: int64,\n",
       "        Flow Duration  Total Fwd Packets  Total Backward Packets  \\\n",
       " count   1.556042e+07       1.556042e+07            1.556042e+07   \n",
       " mean    6.994334e+06       2.786705e+01            1.113106e+01   \n",
       " std     2.301101e+07       1.560498e+03            2.331984e+02   \n",
       " min    -1.000000e+00       0.000000e+00            0.000000e+00   \n",
       " 25%     3.840000e+02       1.000000e+00            1.000000e+00   \n",
       " 50%     1.216100e+04       2.000000e+00            2.000000e+00   \n",
       " 75%     2.335781e+06       4.000000e+00            5.000000e+00   \n",
       " max     1.200000e+08       3.096280e+05            2.919230e+05   \n",
       " \n",
       "        Fwd Packet Length Mean  Bwd Packet Length Mean  \n",
       " count            1.556042e+07            1.556042e+07  \n",
       " mean             8.534740e+01            1.336425e+02  \n",
       " std              1.232792e+02            2.571392e+02  \n",
       " min              0.000000e+00            0.000000e+00  \n",
       " 25%              0.000000e+00            0.000000e+00  \n",
       " 50%              4.584615e+01            7.800000e+01  \n",
       " 75%              1.320000e+02            1.270000e+02  \n",
       " max              4.660441e+03            3.037508e+04  )"
      ]
     },
     "execution_count": 8,
     "metadata": {},
     "output_type": "execute_result"
    }
   ],
   "source": [
    "# Check for missing values in the dataset\n",
    "missing_values = df.isnull().sum()\n",
    "\n",
    "# Display summary statistics\n",
    "summary_stats = df.describe()\n",
    "\n",
    "# Display results\n",
    "missing_values, summary_stats\n"
   ]
  },
  {
   "cell_type": "code",
   "execution_count": 9,
   "id": "d95c4682-bb48-4331-b2eb-f2c3e577bcbd",
   "metadata": {},
   "outputs": [],
   "source": [
    "import numpy as np\n",
    "import matplotlib.pyplot as plt\n",
    "import seaborn as sns"
   ]
  },
  {
   "cell_type": "code",
   "execution_count": 10,
   "id": "1958b5ff-17ab-4a40-9b70-5f7695da5d28",
   "metadata": {},
   "outputs": [
    {
     "data": {
      "text/plain": [
       "Index(['Source IP', 'Source Port', 'Destination IP', 'Destination Port',\n",
       "       'Protocol', 'Flow Duration', 'Total Fwd Packets',\n",
       "       'Total Backward Packets', 'Fwd Packet Length Mean',\n",
       "       'Bwd Packet Length Mean', 'Label'],\n",
       "      dtype='object')"
      ]
     },
     "execution_count": 10,
     "metadata": {},
     "output_type": "execute_result"
    }
   ],
   "source": [
    "# Display column names to identify discrepancies\n",
    "df.columns"
   ]
  },
  {
   "cell_type": "code",
   "execution_count": 11,
   "id": "e40e5a34-fcd9-4b2d-820f-8ba3c23fa950",
   "metadata": {},
   "outputs": [
    {
     "name": "stdout",
     "output_type": "stream",
     "text": [
      "Cleaned Dataset:\n",
      "   Flow Duration Source Port Destination Port Protocol  Total Fwd Packets  \\\n",
      "0      3974862.0        4504               80      tcp                 29   \n",
      "1           63.0        4504               80      tcp                  1   \n",
      "2       476078.0        4505               80      tcp                  2   \n",
      "3          151.0        4505               80      tcp                  2   \n",
      "4       472507.0        4506               80      tcp                  2   \n",
      "\n",
      "   Fwd Packet Length Mean  Bwd Packet Length Mean Label  \n",
      "0                2.965517             1359.340909  ddos  \n",
      "1                0.000000                0.000000  ddos  \n",
      "2               43.000000              506.166667  ddos  \n",
      "3                0.000000                0.000000  ddos  \n",
      "4               36.500000              210.000000  ddos  \n"
     ]
    }
   ],
   "source": [
    "# Adjust the list of essential features based on the available columns\n",
    "available_features = [\n",
    "    'Flow Duration', 'Source Port', 'Destination Port', 'Protocol',\n",
    "    'Total Fwd Packets', 'Fwd Packet Length Mean', 'Bwd Packet Length Mean',\n",
    "    'Label'  # Keeping the target column\n",
    "]\n",
    "\n",
    "# Ensure only the required columns are retained\n",
    "df_cleaned = df[available_features].copy()\n",
    "\n",
    "# Display the cleaned dataset using print instead of a tool function\n",
    "print(\"Cleaned Dataset:\")\n",
    "print(df_cleaned.head())\n"
   ]
  },
  {
   "cell_type": "code",
   "execution_count": 12,
   "id": "6be0b56b-47c1-4059-b5d4-ce6d4c5257b9",
   "metadata": {},
   "outputs": [],
   "source": [
    "# Define num_cols (Numeric Columns Only)\n",
    "num_cols = df_cleaned.select_dtypes(include=['float64', 'int64']).columns\n",
    "\n",
    "# Step 1: Remove Duplicates (Only for Numeric Columns)\n",
    "df_cleaned = df_cleaned.drop_duplicates(subset=num_cols)\n"
   ]
  },
  {
   "cell_type": "code",
   "execution_count": 13,
   "id": "d98caec0-86a9-49d7-81f3-3f25c781925e",
   "metadata": {},
   "outputs": [
    {
     "name": "stdout",
     "output_type": "stream",
     "text": [
      "Dropped duplicate rows based on numeric columns.\n"
     ]
    }
   ],
   "source": [
    "print(\"Dropped duplicate rows based on numeric columns.\")"
   ]
  },
  {
   "cell_type": "code",
   "execution_count": 14,
   "id": "93526867-8fec-480b-93f1-d2ab6e48ff3b",
   "metadata": {},
   "outputs": [],
   "source": [
    "# Handle missing values (column-wise to prevent shape errors)\n",
    "for col in num_cols:\n",
    "    df_cleaned[col] = df_cleaned[col].fillna(df_cleaned[col].median())\n"
   ]
  },
  {
   "cell_type": "code",
   "execution_count": 15,
   "id": "2328e57f-f8d0-42ca-8b1b-5c2e95c88436",
   "metadata": {},
   "outputs": [],
   "source": [
    "# Remove highly correlated features (> 0.95) - Only for numeric columns\n",
    "df_numeric = df_cleaned[num_cols]  # Ensure it's numeric only\n",
    "cor_matrix = df_numeric.corr().abs()\n",
    "upper_tri = np.triu(np.ones(cor_matrix.shape), k=1)\n",
    "\n",
    "# Identify columns to drop based on correlation threshold\n",
    "to_drop = [col for col in cor_matrix.columns if (cor_matrix[col].values * upper_tri).max() > 0.95]"
   ]
  },
  {
   "cell_type": "code",
   "execution_count": 16,
   "id": "9c9c6672-48b7-47b5-baaa-1baa3a9aef8c",
   "metadata": {},
   "outputs": [
    {
     "name": "stdout",
     "output_type": "stream",
     "text": [
      "Dropped correlated features: []\n"
     ]
    }
   ],
   "source": [
    "# **Fix:** Ensure that columns exist before dropping\n",
    "essential_features = ['Flow Duration', 'Source Port', 'Destination Port', 'Protocol',\n",
    "                      'Total Fwd Packets', 'Fwd Packet Length Mean', 'Bwd Packet Length Mean'\n",
    "                     ]\n",
    "\n",
    "to_drop = [col for col in to_drop if col in df_cleaned.columns and col not in essential_features]\n",
    "\n",
    "df_cleaned.drop(columns=to_drop, inplace=True, errors='ignore')  # Ignore missing columns safely\n",
    "print(\"Dropped correlated features:\", to_drop)"
   ]
  },
  {
   "cell_type": "code",
   "execution_count": 17,
   "id": "3abede1c-e499-4a0a-a783-f18f76ea682a",
   "metadata": {},
   "outputs": [
    {
     "name": "stdout",
     "output_type": "stream",
     "text": [
      "Cleaned Network Traffic Data:\n",
      "   Flow Duration Source Port Destination Port Protocol  Total Fwd Packets  \\\n",
      "0      3974862.0        4504               80      tcp                 29   \n",
      "1           63.0        4504               80      tcp                  1   \n",
      "2       476078.0        4505               80      tcp                  2   \n",
      "3          151.0        4505               80      tcp                  2   \n",
      "4       472507.0        4506               80      tcp                  2   \n",
      "\n",
      "   Fwd Packet Length Mean  Bwd Packet Length Mean Label  \n",
      "0                2.965517             1359.340909  ddos  \n",
      "1                0.000000                0.000000  ddos  \n",
      "2               43.000000              506.166667  ddos  \n",
      "3                0.000000                0.000000  ddos  \n",
      "4               36.500000              210.000000  ddos  \n"
     ]
    }
   ],
   "source": [
    "# Display Final Data\n",
    "print(\"Cleaned Network Traffic Data:\")\n",
    "print(df_cleaned.head())"
   ]
  },
  {
   "cell_type": "code",
   "execution_count": 18,
   "id": "69a4dec9-eefa-4d8e-a588-203b50087147",
   "metadata": {},
   "outputs": [
    {
     "name": "stdout",
     "output_type": "stream",
     "text": [
      "Available columns in df_cleaned: Index(['Flow Duration', 'Source Port', 'Destination Port', 'Protocol',\n",
      "       'Total Fwd Packets', 'Fwd Packet Length Mean', 'Bwd Packet Length Mean',\n",
      "       'Label'],\n",
      "      dtype='object')\n"
     ]
    }
   ],
   "source": [
    "print(\"Available columns in df_cleaned:\", df_cleaned.columns)\n"
   ]
  },
  {
   "cell_type": "code",
   "execution_count": 19,
   "id": "ed020c2e-744a-4d0e-a789-2837e4fbb365",
   "metadata": {},
   "outputs": [
    {
     "name": "stdout",
     "output_type": "stream",
     "text": [
      "Successfully cleaned, encoded, and scaled data!\n",
      "   Flow Duration  Source Port  Destination Port  Protocol  Total Fwd Packets  \\\n",
      "0      -0.282271    -1.141231          -0.74716  0.009922          -0.009472   \n",
      "1      -0.418600    -1.141231          -0.74716  0.009922          -0.022637   \n",
      "2      -0.402273    -1.141192          -0.74716  0.009922          -0.022167   \n",
      "3      -0.418597    -1.141192          -0.74716  0.009922          -0.022167   \n",
      "4      -0.402396    -1.141153          -0.74716  0.009922          -0.022167   \n",
      "\n",
      "   Fwd Packet Length Mean  Bwd Packet Length Mean  Label  \n",
      "0               -0.835627                3.623101    1.0  \n",
      "1               -0.856321               -0.656087    1.0  \n",
      "2               -0.556262                0.937319    1.0  \n",
      "3               -0.856321               -0.656087    1.0  \n",
      "4               -0.601619                0.004991    1.0  \n"
     ]
    }
   ],
   "source": [
    "from sklearn.preprocessing import LabelEncoder, StandardScaler\n",
    "\n",
    "# Ensure df_cleaned is the correct dataset\n",
    "df_encoded = df_cleaned.copy()\n",
    "\n",
    "# Step 1: Encode categorical variables (Label and Protocol)\n",
    "label_encoder = LabelEncoder()\n",
    "df_encoded[\"Protocol\"] = label_encoder.fit_transform(df_encoded[\"Protocol\"])\n",
    "df_encoded[\"Label\"] = label_encoder.fit_transform(df_encoded[\"Label\"])\n",
    "\n",
    "# Step 2: Convert all columns to numeric safely\n",
    "df_encoded = df_encoded.apply(pd.to_numeric, errors='coerce')\n",
    "\n",
    "# Step 3: Drop rows with NaN values (from encoding or invalid data)\n",
    "df_encoded = df_encoded.dropna()\n",
    "\n",
    "# Step 4: Standardize features (excluding Label)\n",
    "scaler = StandardScaler()\n",
    "X_scaled = scaler.fit_transform(df_encoded.drop(columns=[\"Label\"]))\n",
    "y = df_encoded[\"Label\"].astype(int)  # Ensure Label is integer\n",
    "\n",
    "# Step 5: Convert back to DataFrame\n",
    "df_scaled = pd.DataFrame(X_scaled, columns=df_encoded.drop(columns=[\"Label\"]).columns)\n",
    "df_scaled[\"Label\"] = y\n",
    "\n",
    "print(\"Successfully cleaned, encoded, and scaled data!\")\n",
    "print(df_scaled.head())\n"
   ]
  },
  {
   "cell_type": "code",
   "execution_count": 20,
   "id": "d4a26366-db09-4185-83e6-0cb18d6a6834",
   "metadata": {},
   "outputs": [
    {
     "data": {
      "text/plain": [
       "3897081"
      ]
     },
     "execution_count": 20,
     "metadata": {},
     "output_type": "execute_result"
    }
   ],
   "source": [
    "# Check for missing values in the Label column\n",
    "df_scaled[\"Label\"].isnull().sum()"
   ]
  },
  {
   "cell_type": "code",
   "execution_count": 21,
   "id": "493acd43-281d-4bdc-9ed1-4c30b1f477aa",
   "metadata": {},
   "outputs": [],
   "source": [
    "# Check for NaN and NA values in df_scaled\n",
    "\n",
    "nan_summary = df_scaled.isna().sum()  # Count NaN values per column\n",
    "na_summary = df_scaled.isnull().sum()  # Count NA values per column\n",
    "\n",
    "# Display only columns that have missing values\n",
    "missing_data = pd.DataFrame({\n",
    "    \"NaN Count\": nan_summary[nan_summary > 0],\n",
    "    \"NA Count\": na_summary[na_summary > 0]\n",
    "})\n"
   ]
  },
  {
   "cell_type": "code",
   "execution_count": 22,
   "id": "d9f2fc97-3f3f-4016-8fad-e84ce875ae01",
   "metadata": {},
   "outputs": [
    {
     "name": "stdout",
     "output_type": "stream",
     "text": [
      "Requirement already satisfied: imbalanced-learn in /opt/conda/lib/python3.11/site-packages (0.13.0)\n",
      "Requirement already satisfied: numpy<3,>=1.24.3 in /opt/conda/lib/python3.11/site-packages (from imbalanced-learn) (1.26.4)\n",
      "Requirement already satisfied: scipy<2,>=1.10.1 in /opt/conda/lib/python3.11/site-packages (from imbalanced-learn) (1.15.2)\n",
      "Requirement already satisfied: scikit-learn<2,>=1.3.2 in /opt/conda/lib/python3.11/site-packages (from imbalanced-learn) (1.6.1)\n",
      "Requirement already satisfied: sklearn-compat<1,>=0.1 in /opt/conda/lib/python3.11/site-packages (from imbalanced-learn) (0.1.3)\n",
      "Requirement already satisfied: joblib<2,>=1.1.1 in /opt/conda/lib/python3.11/site-packages (from imbalanced-learn) (1.4.2)\n",
      "Requirement already satisfied: threadpoolctl<4,>=2.0.0 in /opt/conda/lib/python3.11/site-packages (from imbalanced-learn) (3.5.0)\n"
     ]
    }
   ],
   "source": [
    "!pip install imbalanced-learn\n"
   ]
  },
  {
   "cell_type": "markdown",
   "id": "3b5aa756-09ac-4375-b687-574ad15d0465",
   "metadata": {},
   "source": [
    "Features Kept:\n",
    "Network flow: Flow Duration, Source/Destination Port, Protocol\n",
    "Traffic behavior: Total Fwd Packets, Fwd/Bwd Packet Length Mean\n",
    "Session features: Session_Duration_sec, Is_Long_Session\n",
    "Subnet-based identifiers: Source Subnet, Destination Subnet\n",
    "Target: Label"
   ]
  },
  {
   "cell_type": "code",
   "execution_count": 25,
   "id": "615c51ba-84a3-422b-a171-3b6499d5a77b",
   "metadata": {},
   "outputs": [
    {
     "name": "stdout",
     "output_type": "stream",
     "text": [
      "Isolation Forest Classification Report (after cleaning NaNs):\n",
      "\n",
      "              precision    recall  f1-score   support\n",
      "\n",
      "           0       0.23      0.78      0.36   1213124\n",
      "           1       0.40      0.06      0.10   3264199\n",
      "\n",
      "    accuracy                           0.25   4477323\n",
      "   macro avg       0.32      0.42      0.23   4477323\n",
      "weighted avg       0.36      0.25      0.17   4477323\n",
      "\n"
     ]
    }
   ],
   "source": [
    "# Import IsolationForest\n",
    "from sklearn.ensemble import IsolationForest\n",
    "from sklearn.metrics import classification_report\n",
    "import numpy as np\n",
    "\n",
    "# Drop rows where Label is NaN\n",
    "df_scaled = df_scaled.dropna(subset=[\"Label\"])\n",
    "\n",
    "# Define features and labels\n",
    "X = df_scaled.drop(columns=[\"Label\"])\n",
    "y = df_scaled[\"Label\"].astype(int)  # Ensure integer labels for classification_report\n",
    "\n",
    "# Train the model\n",
    "iso_forest = IsolationForest(n_estimators=100, contamination=0.1, random_state=42)\n",
    "iso_forest.fit(X)\n",
    "\n",
    "# Predict anomalies\n",
    "preds = iso_forest.predict(X)\n",
    "preds = np.where(preds == -1, 1, 0)  # Convert to 1 (anomaly), 0 (normal)\n",
    "\n",
    "# Print classification report\n",
    "print(\"Isolation Forest Classification Report (after cleaning NaNs):\\n\")\n",
    "print(classification_report(y, preds))"
   ]
  },
  {
   "cell_type": "code",
   "execution_count": 26,
   "id": "5cf80c47-9cb6-4c68-8399-a28c9f3feb72",
   "metadata": {},
   "outputs": [
    {
     "data": {
      "text/html": [
       "<div>\n",
       "<style scoped>\n",
       "    .dataframe tbody tr th:only-of-type {\n",
       "        vertical-align: middle;\n",
       "    }\n",
       "\n",
       "    .dataframe tbody tr th {\n",
       "        vertical-align: top;\n",
       "    }\n",
       "\n",
       "    .dataframe thead th {\n",
       "        text-align: right;\n",
       "    }\n",
       "</style>\n",
       "<table border=\"1\" class=\"dataframe\">\n",
       "  <thead>\n",
       "    <tr style=\"text-align: right;\">\n",
       "      <th></th>\n",
       "      <th>Flow Bytes/s</th>\n",
       "      <th>Flow Packets/s</th>\n",
       "      <th>Asymmetry Ratio</th>\n",
       "    </tr>\n",
       "  </thead>\n",
       "  <tbody>\n",
       "    <tr>\n",
       "      <th>0</th>\n",
       "      <td>0.000343</td>\n",
       "      <td>0.000007</td>\n",
       "      <td>-0.995646</td>\n",
       "    </tr>\n",
       "    <tr>\n",
       "      <th>1</th>\n",
       "      <td>0.000000</td>\n",
       "      <td>0.015873</td>\n",
       "      <td>0.000000</td>\n",
       "    </tr>\n",
       "    <tr>\n",
       "      <th>2</th>\n",
       "      <td>0.001154</td>\n",
       "      <td>0.000004</td>\n",
       "      <td>-0.843399</td>\n",
       "    </tr>\n",
       "    <tr>\n",
       "      <th>3</th>\n",
       "      <td>0.000000</td>\n",
       "      <td>0.013245</td>\n",
       "      <td>0.000000</td>\n",
       "    </tr>\n",
       "    <tr>\n",
       "      <th>4</th>\n",
       "      <td>0.000522</td>\n",
       "      <td>0.000004</td>\n",
       "      <td>-0.703854</td>\n",
       "    </tr>\n",
       "  </tbody>\n",
       "</table>\n",
       "</div>"
      ],
      "text/plain": [
       "   Flow Bytes/s  Flow Packets/s  Asymmetry Ratio\n",
       "0      0.000343        0.000007        -0.995646\n",
       "1      0.000000        0.015873         0.000000\n",
       "2      0.001154        0.000004        -0.843399\n",
       "3      0.000000        0.013245         0.000000\n",
       "4      0.000522        0.000004        -0.703854"
      ]
     },
     "execution_count": 26,
     "metadata": {},
     "output_type": "execute_result"
    }
   ],
   "source": [
    "# Add new engineered features to df_cleaned\n",
    "df_cleaned[\"Flow Bytes/s\"] = (df_cleaned[\"Fwd Packet Length Mean\"] + df_cleaned[\"Bwd Packet Length Mean\"]) / (df_cleaned[\"Flow Duration\"] + 1e-6)\n",
    "df_cleaned[\"Flow Packets/s\"] = df_cleaned[\"Total Fwd Packets\"] / (df_cleaned[\"Flow Duration\"] + 1e-6)\n",
    "df_cleaned[\"Asymmetry Ratio\"] = (\n",
    "    df_cleaned[\"Fwd Packet Length Mean\"] - df_cleaned[\"Bwd Packet Length Mean\"]\n",
    ") / (df_cleaned[\"Fwd Packet Length Mean\"] + df_cleaned[\"Bwd Packet Length Mean\"] + 1e-6)\n",
    "\n",
    "# Show the updated DataFrame with new features\n",
    "df_cleaned[[\"Flow Bytes/s\", \"Flow Packets/s\", \"Asymmetry Ratio\"]].head()\n"
   ]
  },
  {
   "cell_type": "code",
   "execution_count": 27,
   "id": "77e77413-cc40-45a2-a7da-b067f641df2a",
   "metadata": {},
   "outputs": [
    {
     "data": {
      "image/png": "[encoded data removed]",
      "text/plain": [
       "<Figure size 1200x500 with 1 Axes>"
      ]
     },
     "metadata": {},
     "output_type": "display_data"
    },
    {
     "name": "stdout",
     "output_type": "stream",
     "text": [
      "First few anomaly predictions:\n",
      "   Flow Duration  Source Port  Destination Port  Protocol  Total Fwd Packets  \\\n",
      "0      -0.331664    -1.141231          -0.74716  0.009922          -0.009517   \n",
      "1      -0.542316    -1.141231          -0.74716  0.009922          -0.022897   \n",
      "2      -0.514622    -1.141192          -0.74716  0.009922          -0.022416   \n",
      "3      -0.542311    -1.141192          -0.74716  0.009922          -0.022416   \n",
      "4      -0.514827    -1.141153          -0.74716  0.009922          -0.022416   \n",
      "\n",
      "   Fwd Packet Length Mean  Bwd Packet Length Mean  Label  Anomaly Score  \\\n",
      "0               -1.805618                1.531066    1.0      -0.070892   \n",
      "1               -1.940172               -1.067366    1.0       0.024896   \n",
      "2               -0.812520                0.661305    1.0       0.042181   \n",
      "3               -1.940172               -1.067366    1.0       0.031431   \n",
      "4               -0.920348                0.004978    1.0       0.070432   \n",
      "\n",
      "   Anomaly  \n",
      "0        1  \n",
      "1        0  \n",
      "2        0  \n",
      "3        0  \n",
      "4        0  \n"
     ]
    }
   ],
   "source": [
    "# Implementing Random Cut Forest (RCF) for anomaly detection\n",
    "from sklearn.ensemble import IsolationForest\n",
    "import matplotlib.pyplot as plt\n",
    "\n",
    "# Using Isolation Forest as a proxy for RCF since scikit-learn does not have native RCF\n",
    "# RCF is available in AWS SDK or PyOD, but Isolation Forest follows a similar unsupervised principle\n",
    "rcf_model = IsolationForest(n_estimators=100, contamination=0.1, random_state=42)\n",
    "rcf_model.fit(df_scaled.drop(columns=[\"Label\"]))\n",
    "\n",
    "# Compute anomaly scores\n",
    "anomaly_scores = rcf_model.decision_function(df_scaled.drop(columns=[\"Label\"]))\n",
    "\n",
    "# Predict anomalies (-1 = anomaly, 1 = normal)\n",
    "predictions = rcf_model.predict(df_scaled.drop(columns=[\"Label\"]))\n",
    "predictions = np.where(predictions == -1, 1, 0)  # Convert to 1 (anomaly) and 0 (normal)\n",
    "\n",
    "# Add anomaly scores and predictions to the DataFrame\n",
    "df_scaled[\"Anomaly Score\"] = anomaly_scores\n",
    "df_scaled[\"Anomaly\"] = predictions\n",
    "\n",
    "# Plot anomaly scores to visualize outliers\n",
    "plt.figure(figsize=(12, 5))\n",
    "plt.hist(anomaly_scores, bins=50, alpha=0.75, color='blue', edgecolor='black')\n",
    "plt.axvline(x=np.percentile(anomaly_scores, 5), color='red', linestyle='dashed', label=\"5th Percentile (Anomaly Threshold)\")\n",
    "plt.xlabel(\"Anomaly Score\")\n",
    "plt.ylabel(\"Frequency\")\n",
    "plt.title(\"Distribution of Anomaly Scores (Random Cut Forest)\")\n",
    "plt.legend()\n",
    "plt.show()\n",
    "\n",
    "# Show the first few anomaly predictions\n",
    "print(\"First few anomaly predictions:\")\n",
    "print(df_scaled.head())\n"
   ]
  },
  {
   "cell_type": "code",
   "execution_count": null,
   "id": "76b41c90-e5e5-4c26-a519-9fd73fb898da",
   "metadata": {},
   "outputs": [
    {
     "name": "stderr",
     "output_type": "stream",
     "text": [
      "2025-03-25 05:10:50.407606: I tensorflow/core/platform/cpu_feature_guard.cc:210] This TensorFlow binary is optimized to use available CPU instructions in performance-critical operations.\n",
      "To enable the following instructions: SSE4.1 SSE4.2 AVX AVX2 AVX512F FMA, in other operations, rebuild TensorFlow with the appropriate compiler flags.\n"
     ]
    },
    {
     "name": "stdout",
     "output_type": "stream",
     "text": [
      "Epoch 1/50\n",
      "\u001b[1m50370/50370\u001b[0m \u001b[32m━━━━━━━━━━━━━━━━━━━━\u001b[0m\u001b[37m\u001b[0m \u001b[1m86s\u001b[0m 2ms/step - loss: 0.0134 - val_loss: 0.0978\n",
      "Epoch 2/50\n",
      "\u001b[1m24460/50370\u001b[0m \u001b[32m━━━━━━━━━\u001b[0m\u001b[37m━━━━━━━━━━━\u001b[0m \u001b[1m36s\u001b[0m 1ms/step - loss: 5.4590e-04 "
     ]
    }
   ],
   "source": [
    "# Implement Autoencoder Neural Network for Deep Anomaly Detection\n",
    "\n",
    "import tensorflow as tf\n",
    "from tensorflow import keras\n",
    "from tensorflow.keras.models import Model\n",
    "from tensorflow.keras.layers import Input, Dense\n",
    "\n",
    "# Define input shape based on feature count\n",
    "input_dim = df_scaled.drop(columns=[\"Label\", \"Anomaly\", \"Anomaly Score\"]).shape[1]\n",
    "\n",
    "# Build Autoencoder\n",
    "input_layer = Input(shape=(input_dim,))\n",
    "encoded = Dense(16, activation='relu')(input_layer)\n",
    "encoded = Dense(8, activation='relu')(encoded)\n",
    "encoded = Dense(4, activation='relu')(encoded)\n",
    "\n",
    "decoded = Dense(8, activation='relu')(encoded)\n",
    "decoded = Dense(16, activation='relu')(decoded)\n",
    "decoded = Dense(input_dim, activation='linear')(decoded)\n",
    "\n",
    "autoencoder = Model(input_layer, decoded)\n",
    "autoencoder.compile(optimizer='adam', loss='mse')\n",
    "\n",
    "# Prepare data for training (normal traffic only)\n",
    "X_train = df_scaled[df_scaled[\"Anomaly\"] == 0].drop(columns=[\"Label\", \"Anomaly\", \"Anomaly Score\"])\n",
    "X_train = X_train.values  # Convert to NumPy array\n",
    "\n",
    "# Train Autoencoder\n",
    "autoencoder.fit(X_train, X_train, epochs=50, batch_size=64, shuffle=True, validation_split=0.2, verbose=1)\n",
    "\n",
    "# Predict reconstruction errors for all data\n",
    "X_all = df_scaled.drop(columns=[\"Label\", \"Anomaly\", \"Anomaly Score\"]).values\n",
    "X_reconstructed = autoencoder.predict(X_all)\n",
    "reconstruction_errors = np.mean(np.abs(X_all - X_reconstructed), axis=1)\n",
    "\n",
    "# Define anomaly threshold based on 95th percentile of normal errors\n",
    "threshold = np.percentile(reconstruction_errors, 95)\n",
    "df_scaled[\"Autoencoder Anomaly Score\"] = reconstruction_errors\n",
    "df_scaled[\"Autoencoder Anomaly\"] = (reconstruction_errors > threshold).astype(int)\n",
    "\n",
    "# Display results after Autoencoder Anomaly Detection\n",
    "print(\"First few results with Autoencoder-based anomaly detection:\")\n",
    "print(df_scaled.head())\n"
   ]
  }
 ],
 "metadata": {
  "kernelspec": {
   "display_name": "Python 3 (ipykernel)",
   "language": "python",
   "name": "python3"
  },
  "language_info": {
   "codemirror_mode": {
    "name": "ipython",
    "version": 3
   },
   "file_extension": ".py",
   "mimetype": "text/x-python",
   "name": "python",
   "nbconvert_exporter": "python",
   "pygments_lexer": "ipython3",
   "version": "3.11.11"
  }
 },
 "nbformat": 4,
 "nbformat_minor": 5
}
